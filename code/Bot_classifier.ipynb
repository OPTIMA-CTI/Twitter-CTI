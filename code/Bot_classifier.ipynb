{
  "cells": [
    {
      "cell_type": "code",
      "execution_count": null,
      "metadata": {
        "id": "B3dTpOArG91m"
      },
      "outputs": [],
      "source": [
        "import pandas as pd\n",
        "import numpy as np\n",
        "import matplotlib.pyplot as plt\n",
        "import seaborn as sns\n",
        "\n",
        "from sklearn.linear_model import LogisticRegression\n",
        "from sklearn.tree import DecisionTreeClassifier\n",
        "from sklearn.ensemble import RandomForestClassifier\n",
        "from sklearn.metrics import accuracy_score, f1_score, precision_score, recall_score\n",
        "from sklearn.metrics import confusion_matrix, roc_auc_score, roc_curve, classification_report, precision_recall_curve\n",
        "from sklearn.model_selection import train_test_split, cross_val_score, StratifiedKFold, GridSearchCV, RandomizedSearchCV\n",
        "\n",
        "from collections import Counter\n",
        "import pickle\n",
        "import pandas as pd\n",
        "import numpy as np"
      ]
    },
    {
      "cell_type": "code",
      "execution_count": null,
      "metadata": {
        "id": "Rct9xla4AMkj"
      },
      "outputs": [],
      "source": [
        "from sklearn.metrics import accuracy_score, f1_score, precision_score, recall_score\n",
        "from sklearn.metrics import confusion_matrix, roc_auc_score, roc_curve, classification_report, precision_recall_curve\n",
        "from sklearn.model_selection import train_test_split, cross_val_score, StratifiedKFold, GridSearchCV, RandomizedSearchCV"
      ]
    },
    {
      "cell_type": "code",
      "execution_count": null,
      "metadata": {
        "id": "DXxS5mGyDQW8"
      },
      "outputs": [],
      "source": [
        "model = list()\n",
        "resample = list()\n",
        "precision = list()\n",
        "recall = list()\n",
        "F1score = list()\n",
        "AUCROC = list()\n",
        "\n",
        "def test_eval(clf_model, X_test, y_test, algo=None, sampling=None):\n",
        "    # Test set prediction\n",
        "    y_prob=clf_model.predict_proba(X_test)\n",
        "    y_pred=clf_model.predict(X_test)\n",
        "\n",
        "    print('Confusion Matrix')\n",
        "    print('='*60)\n",
        "    print(confusion_matrix(y_test,y_pred),\"\\n\")\n",
        "    print('Classification Report')\n",
        "    print('='*60)\n",
        "    print(classification_report(y_test,y_pred),\"\\n\")\n",
        "    print(\"macro F measure\")\n",
        "    print(f1_score(y_test,y_pred,average=\"macro\"))\n",
        "    print(\"weighted F measure\")\n",
        "    print(f1_score(y_test,y_pred,average=\"weighted\"))\n",
        "    print('AUC-ROC')\n",
        "    print('='*60)\n",
        "    print(roc_auc_score(y_test, y_prob[:,1]))\n",
        "\n",
        "    model.append(algo)\n",
        "    precision.append(precision_score(y_test,y_pred))\n",
        "    recall.append(recall_score(y_test,y_pred))\n",
        "    F1score.append(f1_score(y_test,y_pred))\n",
        "    AUCROC.append(roc_auc_score(y_test, y_prob[:,1]))\n",
        "    resample.append(sampling)\n",
        "    report=classification_report(y_test,y_pred)\n",
        "    report_path = \"report_XGBoost.txt\"\n",
        "    text_file = open(report_path, \"a\")\n",
        "    n = text_file.write(report)\n",
        "    text_file.close()\n",
        "\n"
      ]
    },
    {
      "cell_type": "code",
      "execution_count": null,
      "metadata": {
        "colab": {
          "base_uri": "https://localhost:8080/"
        },
        "id": "ZM0Ygvi7jdXj",
        "outputId": "6790b7e8-4bd9-47ed-9262-57bf85855738"
      },
      "outputs": [
        {
          "data": {
            "text/plain": [
              "0    2584\n",
              "1     362\n",
              "Name: Class, dtype: int64"
            ]
          },
          "execution_count": 49,
          "metadata": {},
          "output_type": "execute_result"
        }
      ],
      "source": [
        "train_df =  pd.read_csv(\"Train_Set_Bot_Classification.csv\")\n",
        "del train_df['User Name']\n",
        "#df=df.drop(['Sum of Length of Tweets','Min Length of Tweets','Max Length of Tweets','Sum of Length of Retweets','Min Length of Retweets','Max Length of Retweets','Sum of Length of Text',\n",
        "#'Min Length of Text','Max Length of Text','No of Text','No of Text Containing Only URLs','No of Retweets Per Text','No of Digits in Text','No of Unique Mention','No of Mentioned Username',\n",
        "#'No of Hashtag','No of Unique Text','No of URLs in Text','No of Mentions Per Text','Jaccard Similarity','Length of Screen Name','Length of User Name','Average of Length of Retweets','Average of Length of Text','Standard Deviation of Length of Retweets','Standard Deviation of Length of Text'],axis=1)\n",
        "train_df.shape\n",
        "\n",
        "train_df['Class'].value_counts()"
      ]
    },
    {
      "cell_type": "code",
      "execution_count": null,
      "metadata": {
        "colab": {
          "base_uri": "https://localhost:8080/"
        },
        "id": "O9esPvAYjfpJ",
        "outputId": "04ece5c7-d4e9-4607-d7a9-2e2786169e12"
      },
      "outputs": [
        {
          "data": {
            "text/plain": [
              "0    647\n",
              "1     90\n",
              "Name: Class, dtype: int64"
            ]
          },
          "execution_count": 50,
          "metadata": {},
          "output_type": "execute_result"
        }
      ],
      "source": [
        "test_df =  pd.read_csv(\"Test_Set_Bot_Classification.csv\")\n",
        "del test_df['User Name']\n",
        "del test_df['Class_y']\n",
        "# Rename the column\n",
        "test_df.rename(columns={'Class_x': 'Class'}, inplace=True)\n",
        "#df=df.drop(['Sum of Length of Tweets','Min Length of Tweets','Max Length of Tweets','Sum of Length of Retweets','Min Length of Retweets','Max Length of Retweets','Sum of Length of Text',\n",
        "#'Min Length of Text','Max Length of Text','No of Text','No of Text Containing Only URLs','No of Retweets Per Text','No of Digits in Text','No of Unique Mention','No of Mentioned Username',\n",
        "#'No of Hashtag','No of Unique Text','No of URLs in Text','No of Mentions Per Text','Jaccard Similarity','Length of Screen Name','Length of User Name','Average of Length of Retweets','Average of Length of Text','Standard Deviation of Length of Retweets','Standard Deviation of Length of Text'],axis=1)\n",
        "test_df.shape\n",
        "\n",
        "test_df['Class'].value_counts()"
      ]
    },
    {
      "cell_type": "code",
      "execution_count": null,
      "metadata": {
        "id": "Nr2CCHZElBT-"
      },
      "outputs": [],
      "source": [
        "X_train = train_df.drop(['Class'], axis=1)\n",
        "y_train = train_df['Class']\n",
        "X_test = test_df.drop(['Class'], axis=1)\n",
        "y_test = test_df['Class']"
      ]
    },
    {
      "cell_type": "code",
      "execution_count": null,
      "metadata": {
        "id": "7Rp9DzwiPJ6Z"
      },
      "outputs": [],
      "source": [
        "from sklearn.preprocessing import MinMaxScaler\n",
        "scaler = MinMaxScaler()\n",
        "scaler=scaler.fit(X_train)\n",
        "X_train = scaler.transform(X_train)\n",
        "X_test = scaler.transform(X_test)"
      ]
    },
    {
      "cell_type": "markdown",
      "metadata": {
        "id": "UP8ypHhmor8o"
      },
      "source": [
        "# XGBoost"
      ]
    },
    {
      "cell_type": "code",
      "execution_count": null,
      "metadata": {
        "id": "HEsmjxBiIyJQ"
      },
      "outputs": [],
      "source": [
        "from sklearn.feature_selection import SelectKBest, f_regression,f_classif\n",
        "import sklearn.feature_selection as fs\n",
        "bk = SelectKBest(f_classif, k=46)\n",
        "bk=bk.fit(X_train, y_train)\n",
        "X_train = bk.transform(X_train)\n",
        "X_test = bk.transform(X_test)"
      ]
    },
    {
      "cell_type": "code",
      "execution_count": null,
      "metadata": {
        "colab": {
          "base_uri": "https://localhost:8080/"
        },
        "id": "OAUIPGvBAU2U",
        "outputId": "e3eec67d-a8f5-4572-bab9-a15c323a4bbc"
      },
      "outputs": [
        {
          "name": "stdout",
          "output_type": "stream",
          "text": [
            "[07:29:08] WARNING: ../src/learner.cc:767: \n",
            "Parameters: { \"max_features\", \"min_samples_leaf\", \"min_samples_split\" } are not used.\n",
            "\n",
            "Confusion Matrix\n",
            "============================================================\n",
            "[[633  14]\n",
            " [ 38  52]] \n",
            "\n",
            "Classification Report\n",
            "============================================================\n",
            "              precision    recall  f1-score   support\n",
            "\n",
            "           0       0.94      0.98      0.96       647\n",
            "           1       0.79      0.58      0.67        90\n",
            "\n",
            "    accuracy                           0.93       737\n",
            "   macro avg       0.87      0.78      0.81       737\n",
            "weighted avg       0.92      0.93      0.92       737\n",
            " \n",
            "\n",
            "macro F measure\n",
            "0.8136064744562468\n",
            "weighted F measure\n",
            "0.9246586765441657\n",
            "AUC-ROC\n",
            "============================================================\n",
            "0.8830156276833248\n"
          ]
        }
      ],
      "source": [
        "from sklearn.metrics import f1_score, make_scorer\n",
        "\n",
        "\n",
        "\"\"\"## Model-4: XGBoost\n",
        "\n",
        "### 1. `Original Unsampled Data`\n",
        "\"\"\"\n",
        "\n",
        "from xgboost import XGBClassifier\n",
        "xgb_model = XGBClassifier(reg_lambda = 12.8, reg_alpha =0.2, n_estimators = 2800, min_samples_split = 5, min_samples_leaf = 1, max_features = 'sqrt', max_depth = 70, learning_rate = 0.06, gamma = 0.8)\n",
        "\n",
        "\n",
        "xgb_model.fit(X_train, y_train)\n",
        "\n",
        "\n",
        "test_eval(xgb_model, X_test, y_test, 'Random Forest', 'actual')"
      ]
    },
    {
      "cell_type": "markdown",
      "metadata": {
        "id": "wrmHZWY81rzZ"
      },
      "source": [
        "with full feature"
      ]
    },
    {
      "cell_type": "code",
      "execution_count": null,
      "metadata": {
        "colab": {
          "base_uri": "https://localhost:8080/"
        },
        "id": "a-przcon1vUR",
        "outputId": "121ca3eb-cbc1-4bc7-d2ea-8512c00f0343"
      },
      "outputs": [
        {
          "name": "stdout",
          "output_type": "stream",
          "text": [
            "[07:27:27] WARNING: ../src/learner.cc:767: \n",
            "Parameters: { \"max_features\", \"min_samples_leaf\", \"min_samples_split\" } are not used.\n",
            "\n",
            "Confusion Matrix\n",
            "============================================================\n",
            "[[633  14]\n",
            " [ 38  52]] \n",
            "\n",
            "Classification Report\n",
            "============================================================\n",
            "              precision    recall  f1-score   support\n",
            "\n",
            "           0       0.94      0.98      0.96       647\n",
            "           1       0.79      0.58      0.67        90\n",
            "\n",
            "    accuracy                           0.93       737\n",
            "   macro avg       0.87      0.78      0.81       737\n",
            "weighted avg       0.92      0.93      0.92       737\n",
            " \n",
            "\n",
            "macro F measure\n",
            "0.8136064744562468\n",
            "weighted F measure\n",
            "0.9246586765441657\n",
            "AUC-ROC\n",
            "============================================================\n",
            "0.8830156276833248\n"
          ]
        }
      ],
      "source": [
        "from xgboost import XGBClassifier\n",
        "xgb_model = XGBClassifier(reg_lambda = 12.8, reg_alpha =0.2, n_estimators = 2800, min_samples_split = 5, min_samples_leaf = 1, max_features = 'sqrt', max_depth = 70, learning_rate = 0.06, gamma = 0.8)\n",
        "\n",
        "xgb_model.fit(X_train, y_train)\n",
        "\n",
        "\n",
        "test_eval(xgb_model, X_test, y_test, 'Random Forest', 'actual')"
      ]
    },
    {
      "cell_type": "markdown",
      "metadata": {
        "id": "cqXN_0EgozUA"
      },
      "source": [
        "# Decision Tree"
      ]
    },
    {
      "cell_type": "code",
      "execution_count": null,
      "metadata": {
        "colab": {
          "base_uri": "https://localhost:8080/"
        },
        "id": "u11qHYzIpKCv",
        "outputId": "26e472bd-e3a6-4f3d-c1fa-b2d0aca2a8fc"
      },
      "outputs": [
        {
          "name": "stderr",
          "output_type": "stream",
          "text": [
            "/usr/local/lib/python3.10/dist-packages/sklearn/feature_selection/_univariate_selection.py:112: UserWarning: Features [38] are constant.\n",
            "  warnings.warn(\"Features %s are constant.\" % constant_features_idx, UserWarning)\n",
            "/usr/local/lib/python3.10/dist-packages/sklearn/feature_selection/_univariate_selection.py:113: RuntimeWarning: invalid value encountered in divide\n",
            "  f = msb / msw\n"
          ]
        }
      ],
      "source": [
        "from sklearn.feature_selection import SelectKBest, f_regression,f_classif\n",
        "import sklearn.feature_selection as fs\n",
        "bk = SelectKBest(f_classif, k=31)\n",
        "bk=bk.fit(X_train, y_train)\n",
        "X_train = bk.transform(X_train)\n",
        "X_test = bk.transform(X_test)"
      ]
    },
    {
      "cell_type": "code",
      "execution_count": null,
      "metadata": {
        "colab": {
          "base_uri": "https://localhost:8080/"
        },
        "id": "B3mbG0HKpR8l",
        "outputId": "b15e70d3-dc7c-47a7-a18a-18524ad9b238"
      },
      "outputs": [
        {
          "name": "stdout",
          "output_type": "stream",
          "text": [
            "Confusion Matrix\n",
            "============================================================\n",
            "[[627  20]\n",
            " [ 44  46]] \n",
            "\n",
            "Classification Report\n",
            "============================================================\n",
            "              precision    recall  f1-score   support\n",
            "\n",
            "           0       0.93      0.97      0.95       647\n",
            "           1       0.70      0.51      0.59        90\n",
            "\n",
            "    accuracy                           0.91       737\n",
            "   macro avg       0.82      0.74      0.77       737\n",
            "weighted avg       0.91      0.91      0.91       737\n",
            " \n",
            "\n",
            "macro F measure\n",
            "0.7705925839461499\n",
            "weighted F measure\n",
            "0.9072722172851269\n",
            "AUC-ROC\n",
            "============================================================\n",
            "0.8076850420745321\n"
          ]
        }
      ],
      "source": [
        "clf_DT =DecisionTreeClassifier(max_depth=10, max_features=0.4, min_samples_split=10,\n",
        "                       random_state=10)\n",
        "clf_DT.fit(X_train, y_train)\n",
        "\n",
        "\n",
        "test_eval(clf_DT, X_test, y_test, 'Decision Tree', 'actual')"
      ]
    },
    {
      "cell_type": "code",
      "execution_count": null,
      "metadata": {
        "colab": {
          "base_uri": "https://localhost:8080/"
        },
        "id": "v05X44J_yV-c",
        "outputId": "3ed727eb-ed10-47d2-acc5-88685b7ad550"
      },
      "outputs": [
        {
          "name": "stdout",
          "output_type": "stream",
          "text": [
            "Confusion Matrix\n",
            "============================================================\n",
            "[[628  19]\n",
            " [ 45  45]] \n",
            "\n",
            "Classification Report\n",
            "============================================================\n",
            "              precision    recall  f1-score   support\n",
            "\n",
            "           0       0.93      0.97      0.95       647\n",
            "           1       0.70      0.50      0.58        90\n",
            "\n",
            "    accuracy                           0.91       737\n",
            "   macro avg       0.82      0.74      0.77       737\n",
            "weighted avg       0.91      0.91      0.91       737\n",
            " \n",
            "\n",
            "macro F measure\n",
            "0.767965367965368\n",
            "weighted F measure\n",
            "0.9066861677445124\n",
            "AUC-ROC\n",
            "============================================================\n",
            "0.7907178430362356\n"
          ]
        }
      ],
      "source": [
        "clf_DT = DecisionTreeClassifier(max_depth=10, max_features=0.4, min_samples_split=10,\n",
        "                       random_state=10)\n",
        "clf_DT.fit(X_train, y_train)\n",
        "\n",
        "\n",
        "test_eval(clf_DT, X_test, y_test, 'Decision Tree', 'actual')"
      ]
    },
    {
      "cell_type": "markdown",
      "metadata": {
        "id": "_bBgw8CSq-Y2"
      },
      "source": [
        "# Random Forest"
      ]
    },
    {
      "cell_type": "code",
      "execution_count": null,
      "metadata": {
        "colab": {
          "base_uri": "https://localhost:8080/"
        },
        "id": "mHeI6FY_q9y9",
        "outputId": "6728e17e-31a5-4659-bf83-c6d0cfc75586"
      },
      "outputs": [
        {
          "name": "stderr",
          "output_type": "stream",
          "text": [
            "/usr/local/lib/python3.10/dist-packages/sklearn/feature_selection/_univariate_selection.py:112: UserWarning: Features [38] are constant.\n",
            "  warnings.warn(\"Features %s are constant.\" % constant_features_idx, UserWarning)\n",
            "/usr/local/lib/python3.10/dist-packages/sklearn/feature_selection/_univariate_selection.py:113: RuntimeWarning: invalid value encountered in divide\n",
            "  f = msb / msw\n"
          ]
        }
      ],
      "source": [
        "from sklearn.feature_selection import SelectKBest, f_regression,f_classif\n",
        "import sklearn.feature_selection as fs\n",
        "bk = SelectKBest(f_classif, k=43)\n",
        "bk=bk.fit(X_train, y_train)\n",
        "X_train = bk.transform(X_train)\n",
        "X_test = bk.transform(X_test)"
      ]
    },
    {
      "cell_type": "code",
      "execution_count": null,
      "metadata": {
        "colab": {
          "base_uri": "https://localhost:8080/"
        },
        "id": "qGvgWDRgrGst",
        "outputId": "f8cb99f7-d48d-4b4a-b898-ef761922db22"
      },
      "outputs": [
        {
          "name": "stderr",
          "output_type": "stream",
          "text": [
            "/usr/local/lib/python3.10/dist-packages/sklearn/ensemble/_forest.py:424: FutureWarning: `max_features='auto'` has been deprecated in 1.1 and will be removed in 1.3. To keep the past behaviour, explicitly set `max_features='sqrt'` or remove this parameter as it is also the default value for RandomForestClassifiers and ExtraTreesClassifiers.\n",
            "  warn(\n"
          ]
        },
        {
          "name": "stdout",
          "output_type": "stream",
          "text": [
            "Confusion Matrix\n",
            "============================================================\n",
            "[[628  19]\n",
            " [ 36  54]] \n",
            "\n",
            "Classification Report\n",
            "============================================================\n",
            "              precision    recall  f1-score   support\n",
            "\n",
            "           0       0.95      0.97      0.96       647\n",
            "           1       0.74      0.60      0.66        90\n",
            "\n",
            "    accuracy                           0.93       737\n",
            "   macro avg       0.84      0.79      0.81       737\n",
            "weighted avg       0.92      0.93      0.92       737\n",
            " \n",
            "\n",
            "macro F measure\n",
            "0.8103119896299831\n",
            "weighted F measure\n",
            "0.9219654000777093\n",
            "AUC-ROC\n",
            "============================================================\n",
            "0.8801820367508159\n"
          ]
        }
      ],
      "source": [
        "clf_rf = RandomForestClassifier(class_weight='balanced_subsample', max_depth=20,\n",
        "                       max_features='auto', min_samples_leaf=4,\n",
        "                       min_samples_split=10, n_estimators=1600,\n",
        "                       random_state=10)\n",
        "clf_rf.fit(X_train, y_train)\n",
        "\n",
        "\n",
        "test_eval(clf_rf, X_test, y_test, 'Decision Tree', 'actual')"
      ]
    },
    {
      "cell_type": "markdown",
      "metadata": {
        "id": "zp6WvgUm120C"
      },
      "source": [
        "with full feature"
      ]
    },
    {
      "cell_type": "code",
      "execution_count": null,
      "metadata": {
        "colab": {
          "base_uri": "https://localhost:8080/"
        },
        "id": "gloph4OZ14Xx",
        "outputId": "123c4085-0159-4d3c-ac5c-54ec1198cfb7"
      },
      "outputs": [
        {
          "name": "stdout",
          "output_type": "stream",
          "text": [
            "Confusion Matrix\n",
            "============================================================\n",
            "[[628  19]\n",
            " [ 36  54]] \n",
            "\n",
            "Classification Report\n",
            "============================================================\n",
            "              precision    recall  f1-score   support\n",
            "\n",
            "           0       0.95      0.97      0.96       647\n",
            "           1       0.74      0.60      0.66        90\n",
            "\n",
            "    accuracy                           0.93       737\n",
            "   macro avg       0.84      0.79      0.81       737\n",
            "weighted avg       0.92      0.93      0.92       737\n",
            " \n",
            "\n",
            "macro F measure\n",
            "0.8103119896299831\n",
            "weighted F measure\n",
            "0.9219654000777093\n",
            "AUC-ROC\n",
            "============================================================\n",
            "0.8835479993130689\n"
          ]
        }
      ],
      "source": [
        "clf_rf = RandomForestClassifier(class_weight='balanced_subsample', max_depth=110,\n",
        "                       min_samples_leaf=4, min_samples_split=10,\n",
        "                       n_estimators=2800, random_state=10)\n",
        "clf_rf.fit(X_train, y_train)\n",
        "\n",
        "\n",
        "test_eval(clf_rf, X_test, y_test, 'Decision Tree', 'actual')"
      ]
    },
    {
      "cell_type": "markdown",
      "metadata": {
        "id": "_v_jWejkrpuF"
      },
      "source": [
        "# KNN"
      ]
    },
    {
      "cell_type": "code",
      "execution_count": null,
      "metadata": {
        "colab": {
          "base_uri": "https://localhost:8080/"
        },
        "id": "wMmUB6ndrsNU",
        "outputId": "84fa8c8c-4b66-4da5-b38d-43ed4a1ace97"
      },
      "outputs": [
        {
          "name": "stderr",
          "output_type": "stream",
          "text": [
            "/usr/local/lib/python3.10/dist-packages/sklearn/feature_selection/_univariate_selection.py:112: UserWarning: Features [38] are constant.\n",
            "  warnings.warn(\"Features %s are constant.\" % constant_features_idx, UserWarning)\n",
            "/usr/local/lib/python3.10/dist-packages/sklearn/feature_selection/_univariate_selection.py:113: RuntimeWarning: invalid value encountered in divide\n",
            "  f = msb / msw\n"
          ]
        }
      ],
      "source": [
        "from sklearn.feature_selection import SelectKBest, f_regression,f_classif\n",
        "import sklearn.feature_selection as fs\n",
        "bk = SelectKBest(f_classif, k=16)\n",
        "bk=bk.fit(X_train, y_train)\n",
        "X_train = bk.transform(X_train)\n",
        "X_test = bk.transform(X_test)"
      ]
    },
    {
      "cell_type": "code",
      "execution_count": null,
      "metadata": {
        "colab": {
          "base_uri": "https://localhost:8080/"
        },
        "id": "_VCEjpDIrxO0",
        "outputId": "b935f024-3807-47a1-af8d-cd8154ab71b1"
      },
      "outputs": [
        {
          "name": "stdout",
          "output_type": "stream",
          "text": [
            "Confusion Matrix\n",
            "============================================================\n",
            "[[638   9]\n",
            " [ 42  48]] \n",
            "\n",
            "Classification Report\n",
            "============================================================\n",
            "              precision    recall  f1-score   support\n",
            "\n",
            "           0       0.94      0.99      0.96       647\n",
            "           1       0.84      0.53      0.65        90\n",
            "\n",
            "    accuracy                           0.93       737\n",
            "   macro avg       0.89      0.76      0.81       737\n",
            "weighted avg       0.93      0.93      0.92       737\n",
            " \n",
            "\n",
            "macro F measure\n",
            "0.807314334927641\n",
            "weighted F measure\n",
            "0.9238936870495946\n",
            "AUC-ROC\n",
            "============================================================\n",
            "0.8413532543362527\n"
          ]
        }
      ],
      "source": [
        "from sklearn.neighbors import KNeighborsClassifier\n",
        "clf_knn = KNeighborsClassifier()\n",
        "clf_knn.fit(X_train, y_train)\n",
        "test_eval(clf_knn, X_test, y_test, 'Decision Tree', 'actual')"
      ]
    },
    {
      "cell_type": "markdown",
      "metadata": {
        "id": "iR731Ljm2IDx"
      },
      "source": [
        "with full feature"
      ]
    },
    {
      "cell_type": "code",
      "execution_count": null,
      "metadata": {
        "colab": {
          "base_uri": "https://localhost:8080/"
        },
        "id": "ZDhGHnc2nK0G",
        "outputId": "255f6d37-11b7-4a7e-84b8-860b79a7ad59"
      },
      "outputs": [
        {
          "name": "stdout",
          "output_type": "stream",
          "text": [
            "Confusion Matrix\n",
            "============================================================\n",
            "[[637  10]\n",
            " [ 48  42]] \n",
            "\n",
            "Classification Report\n",
            "============================================================\n",
            "              precision    recall  f1-score   support\n",
            "\n",
            "           0       0.93      0.98      0.96       647\n",
            "           1       0.81      0.47      0.59        90\n",
            "\n",
            "    accuracy                           0.92       737\n",
            "   macro avg       0.87      0.73      0.77       737\n",
            "weighted avg       0.92      0.92      0.91       737\n",
            " \n",
            "\n",
            "macro F measure\n",
            "0.7740028761155522\n",
            "weighted F measure\n",
            "0.9118952020991121\n",
            "AUC-ROC\n",
            "============================================================\n",
            "0.808517946075906\n"
          ]
        }
      ],
      "source": [
        "from sklearn.neighbors import KNeighborsClassifier\n",
        "clf_knn = KNeighborsClassifier()\n",
        "clf_knn.fit(X_train, y_train)\n",
        "test_eval(clf_knn, X_test, y_test, 'Decision Tree', 'actual')"
      ]
    },
    {
      "cell_type": "markdown",
      "metadata": {
        "id": "qOv5jM2wsbfM"
      },
      "source": [
        "# SVM"
      ]
    },
    {
      "cell_type": "code",
      "execution_count": null,
      "metadata": {
        "colab": {
          "base_uri": "https://localhost:8080/"
        },
        "id": "Gw4AEWtZsdJT",
        "outputId": "07f653e4-4ceb-4d3a-90d8-8359402c3d10"
      },
      "outputs": [
        {
          "name": "stderr",
          "output_type": "stream",
          "text": [
            "/usr/local/lib/python3.10/dist-packages/sklearn/feature_selection/_univariate_selection.py:112: UserWarning: Features [38] are constant.\n",
            "  warnings.warn(\"Features %s are constant.\" % constant_features_idx, UserWarning)\n",
            "/usr/local/lib/python3.10/dist-packages/sklearn/feature_selection/_univariate_selection.py:113: RuntimeWarning: invalid value encountered in divide\n",
            "  f = msb / msw\n"
          ]
        }
      ],
      "source": [
        "from sklearn.feature_selection import SelectKBest, f_regression,f_classif\n",
        "import sklearn.feature_selection as fs\n",
        "bk = SelectKBest(f_classif, k=33)\n",
        "bk=bk.fit(X_train, y_train)\n",
        "X_train = bk.transform(X_train)\n",
        "X_test = bk.transform(X_test)"
      ]
    },
    {
      "cell_type": "code",
      "execution_count": null,
      "metadata": {
        "id": "w9wriqDSss36"
      },
      "outputs": [],
      "source": [
        "from sklearn.svm import SVC"
      ]
    },
    {
      "cell_type": "code",
      "execution_count": null,
      "metadata": {
        "colab": {
          "base_uri": "https://localhost:8080/"
        },
        "id": "qp3liK9Ash0D",
        "outputId": "a46877dc-272a-40ae-980b-13d2ea1a487f"
      },
      "outputs": [
        {
          "name": "stdout",
          "output_type": "stream",
          "text": [
            "Confusion Matrix\n",
            "============================================================\n",
            "[[578  69]\n",
            " [ 22  68]] \n",
            "\n",
            "Classification Report\n",
            "============================================================\n",
            "              precision    recall  f1-score   support\n",
            "\n",
            "           0       0.96      0.89      0.93       647\n",
            "           1       0.50      0.76      0.60        90\n",
            "\n",
            "    accuracy                           0.88       737\n",
            "   macro avg       0.73      0.82      0.76       737\n",
            "weighted avg       0.91      0.88      0.89       737\n",
            " \n",
            "\n",
            "macro F measure\n",
            "0.7630719011972347\n",
            "weighted F measure\n",
            "0.8869820746918591\n",
            "AUC-ROC\n",
            "============================================================\n",
            "0.8822600034346556\n"
          ]
        }
      ],
      "source": [
        "clf_svm = SVC(C=400, class_weight='balanced', gamma=0.01, probability=True)\n",
        "clf_svm.fit(X_train, y_train)\n",
        "test_eval(clf_svm, X_test, y_test, 'Decision Tree', 'actual')"
      ]
    },
    {
      "cell_type": "markdown",
      "metadata": {
        "id": "ucXLHerL2Uhq"
      },
      "source": [
        "with full feature"
      ]
    },
    {
      "cell_type": "code",
      "execution_count": null,
      "metadata": {
        "colab": {
          "base_uri": "https://localhost:8080/"
        },
        "id": "005Xx8MA2WGR",
        "outputId": "24ddcbf7-0ff6-4bf7-e7ff-2358496a804d"
      },
      "outputs": [
        {
          "name": "stdout",
          "output_type": "stream",
          "text": [
            "Confusion Matrix\n",
            "============================================================\n",
            "[[573  74]\n",
            " [ 22  68]] \n",
            "\n",
            "Classification Report\n",
            "============================================================\n",
            "              precision    recall  f1-score   support\n",
            "\n",
            "           0       0.96      0.89      0.92       647\n",
            "           1       0.48      0.76      0.59        90\n",
            "\n",
            "    accuracy                           0.87       737\n",
            "   macro avg       0.72      0.82      0.75       737\n",
            "weighted avg       0.90      0.87      0.88       737\n",
            " \n",
            "\n",
            "macro F measure\n",
            "0.7544561052806928\n",
            "weighted F measure\n",
            "0.8816132413214468\n",
            "AUC-ROC\n",
            "============================================================\n",
            "0.8775373518804741\n"
          ]
        }
      ],
      "source": [
        "clf_svm = SVC(C=400, class_weight='balanced', gamma=0.01, probability=True)\n",
        "clf_svm.fit(X_train, y_train)\n",
        "test_eval(clf_svm, X_test, y_test, 'Decision Tree', 'actual')"
      ]
    },
    {
      "cell_type": "markdown",
      "metadata": {
        "id": "2Da9gcRItSPy"
      },
      "source": [
        "# Logistic Regression"
      ]
    },
    {
      "cell_type": "code",
      "execution_count": null,
      "metadata": {
        "colab": {
          "base_uri": "https://localhost:8080/"
        },
        "id": "s0mKSw0JtVwS",
        "outputId": "b73528a9-cc3f-4c54-891f-10bf53091855"
      },
      "outputs": [
        {
          "name": "stderr",
          "output_type": "stream",
          "text": [
            "/usr/local/lib/python3.10/dist-packages/sklearn/feature_selection/_univariate_selection.py:112: UserWarning: Features [38] are constant.\n",
            "  warnings.warn(\"Features %s are constant.\" % constant_features_idx, UserWarning)\n",
            "/usr/local/lib/python3.10/dist-packages/sklearn/feature_selection/_univariate_selection.py:113: RuntimeWarning: invalid value encountered in divide\n",
            "  f = msb / msw\n"
          ]
        }
      ],
      "source": [
        "from sklearn.feature_selection import SelectKBest, f_regression,f_classif\n",
        "import sklearn.feature_selection as fs\n",
        "bk = SelectKBest(f_classif, k=37)\n",
        "bk=bk.fit(X_train, y_train)\n",
        "X_train = bk.transform(X_train)\n",
        "X_test = bk.transform(X_test)"
      ]
    },
    {
      "cell_type": "code",
      "execution_count": null,
      "metadata": {
        "colab": {
          "base_uri": "https://localhost:8080/"
        },
        "id": "dvuuC3fUtaWC",
        "outputId": "42faadc3-ef03-4893-83dd-ad87f5cd4b91"
      },
      "outputs": [
        {
          "name": "stdout",
          "output_type": "stream",
          "text": [
            "Confusion Matrix\n",
            "============================================================\n",
            "[[635  12]\n",
            " [ 40  50]] \n",
            "\n",
            "Classification Report\n",
            "============================================================\n",
            "              precision    recall  f1-score   support\n",
            "\n",
            "           0       0.94      0.98      0.96       647\n",
            "           1       0.81      0.56      0.66        90\n",
            "\n",
            "    accuracy                           0.93       737\n",
            "   macro avg       0.87      0.77      0.81       737\n",
            "weighted avg       0.92      0.93      0.92       737\n",
            " \n",
            "\n",
            "macro F measure\n",
            "0.8092801974679513\n",
            "weighted F measure\n",
            "0.9236922755800221\n",
            "AUC-ROC\n",
            "============================================================\n",
            "0.8720590760776232\n"
          ]
        }
      ],
      "source": [
        "clf_LR =  LogisticRegression(C=100, penalty='l1', solver='liblinear')\n",
        "clf_LR.fit(X_train, y_train)\n",
        "clf_LR.fit(X_train, y_train)\n",
        "test_eval(clf_LR, X_test, y_test, 'Logistic Regression', 'actual')"
      ]
    },
    {
      "cell_type": "markdown",
      "metadata": {
        "id": "qmtdfnWp2e7o"
      },
      "source": [
        "with full feature"
      ]
    },
    {
      "cell_type": "code",
      "execution_count": null,
      "metadata": {
        "colab": {
          "base_uri": "https://localhost:8080/"
        },
        "id": "nsfD0RxzmWSP",
        "outputId": "389229cf-b850-41b9-85c3-52c3b2610bbc"
      },
      "outputs": [
        {
          "name": "stdout",
          "output_type": "stream",
          "text": [
            "Confusion Matrix\n",
            "============================================================\n",
            "[[628  19]\n",
            " [ 41  49]] \n",
            "\n",
            "Classification Report\n",
            "============================================================\n",
            "              precision    recall  f1-score   support\n",
            "\n",
            "           0       0.94      0.97      0.95       647\n",
            "           1       0.72      0.54      0.62        90\n",
            "\n",
            "    accuracy                           0.92       737\n",
            "   macro avg       0.83      0.76      0.79       737\n",
            "weighted avg       0.91      0.92      0.91       737\n",
            " \n",
            "\n",
            "macro F measure\n",
            "0.7873302296948943\n",
            "weighted F measure\n",
            "0.9136014987340101\n",
            "AUC-ROC\n",
            "============================================================\n",
            "0.8701356688991929\n"
          ]
        }
      ],
      "source": [
        "clf_LR =  LogisticRegression(C=100, penalty='l1', solver='liblinear')\n",
        "clf_LR.fit(X_train, y_train)\n",
        "test_eval(clf_LR, X_test, y_test, 'Logistic Regression', 'actual')"
      ]
    }
  ],
  "metadata": {
    "colab": {
      "collapsed_sections": [
        "cqXN_0EgozUA",
        "_v_jWejkrpuF",
        "qOv5jM2wsbfM",
        "2Da9gcRItSPy"
      ],
      "provenance": []
    },
    "kernelspec": {
      "display_name": "Python 3",
      "name": "python3"
    },
    "language_info": {
      "name": "python"
    }
  },
  "nbformat": 4,
  "nbformat_minor": 0
}
