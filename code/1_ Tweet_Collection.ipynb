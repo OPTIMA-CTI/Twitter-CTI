{
 "cells": [
  {
   "cell_type": "markdown",
   "metadata": {
    "id": "0f21oRceI72y"
   },
   "source": [
    "<h1> Collecting the tweet entities</h1>"
   ]
  },
  {
   "cell_type": "code",
   "execution_count": 1,
   "metadata": {
    "colab": {
     "base_uri": "https://localhost:8080/"
    },
    "executionInfo": {
     "elapsed": 15617,
     "status": "ok",
     "timestamp": 1704945035074,
     "user": {
      "displayName": "dincyr arikkat",
      "userId": "15274088586090887187"
     },
     "user_tz": -330
    },
    "id": "pPJ8E2FrImQC",
    "outputId": "730eaa14-5907-49ca-b55f-f1c5a37f1b44"
   },
   "outputs": [
    {
     "name": "stdout",
     "output_type": "stream",
     "text": [
      "Collecting git+https://github.com/tweepy/tweepy.git\n",
      "  Cloning https://github.com/tweepy/tweepy.git to /tmp/pip-req-build-l710k1_v\n",
      "  Running command git clone --filter=blob:none --quiet https://github.com/tweepy/tweepy.git /tmp/pip-req-build-l710k1_v\n",
      "  Resolved https://github.com/tweepy/tweepy.git to commit f32d12dbddbd877470446657812a10a04292d0c9\n",
      "  Preparing metadata (setup.py) ... \u001b[?25l\u001b[?25hdone\n",
      "Requirement already satisfied: oauthlib<4,>=3.2.0 in /usr/local/lib/python3.10/dist-packages (from tweepy==4.14.0) (3.2.2)\n",
      "Requirement already satisfied: requests<3,>=2.27.0 in /usr/local/lib/python3.10/dist-packages (from tweepy==4.14.0) (2.31.0)\n",
      "Requirement already satisfied: requests-oauthlib<2,>=1.2.0 in /usr/local/lib/python3.10/dist-packages (from tweepy==4.14.0) (1.3.1)\n",
      "Requirement already satisfied: charset-normalizer<4,>=2 in /usr/local/lib/python3.10/dist-packages (from requests<3,>=2.27.0->tweepy==4.14.0) (3.3.2)\n",
      "Requirement already satisfied: idna<4,>=2.5 in /usr/local/lib/python3.10/dist-packages (from requests<3,>=2.27.0->tweepy==4.14.0) (3.6)\n",
      "Requirement already satisfied: urllib3<3,>=1.21.1 in /usr/local/lib/python3.10/dist-packages (from requests<3,>=2.27.0->tweepy==4.14.0) (2.0.7)\n",
      "Requirement already satisfied: certifi>=2017.4.17 in /usr/local/lib/python3.10/dist-packages (from requests<3,>=2.27.0->tweepy==4.14.0) (2023.11.17)\n"
     ]
    }
   ],
   "source": [
    "pip install git+https://github.com/tweepy/tweepy.git"
   ]
  },
  {
   "cell_type": "code",
   "execution_count": null,
   "metadata": {
    "colab": {
     "base_uri": "https://localhost:8080/"
    },
    "id": "Iq2kqbqt2RZw",
    "outputId": "604ae9f7-5764-41e4-f04a-1501015eccfe"
   },
   "outputs": [
    {
     "name": "stderr",
     "output_type": "stream",
     "text": [
      "WARNING:root:pydrive is deprecated and no longer maintained. We recommend that you migrate your projects to pydrive2, the maintained fork of pydrive\n"
     ]
    }
   ],
   "source": [
    "!pip install -U -q PyDrive\n",
    "from pydrive.auth import GoogleAuth\n",
    "from pydrive.drive import GoogleDrive\n",
    "from google.colab import auth\n",
    "from oauth2client.client import GoogleCredentials\n",
    "\n",
    "\n",
    "from google.colab import drive\n",
    "drive.mount('/content/drive')"
   ]
  },
  {
   "cell_type": "code",
   "execution_count": null,
   "metadata": {
    "id": "Jt1R79CMIsoH"
   },
   "outputs": [],
   "source": [
    "# For sending GET requests from the API\n",
    "import requests\n",
    "# For saving access tokens and for file management when creating and adding to the dataset\n",
    "import os\n",
    "# For dealing with json responses we receive from the API\n",
    "import json\n",
    "# For displaying the data after\n",
    "import pandas as pd\n",
    "# For saving the response data in CSV format\n",
    "import csv\n",
    "# For parsing the dates received from twitter in readable formats\n",
    "import datetime\n",
    "import dateutil.parser\n",
    "import unicodedata\n",
    "#To add wait time between requests\n",
    "import time\n",
    "import tweepy\n"
   ]
  },
  {
   "cell_type": "code",
   "execution_count": null,
   "metadata": {
    "id": "C5hpm5lXIu4n"
   },
   "outputs": [],
   "source": [
    "bearer_token='Your API'\n",
    "client = tweepy.Client(bearer_token)"
   ]
  },
  {
   "cell_type": "code",
   "execution_count": null,
   "metadata": {
    "id": "p4dtwHyAb_eR"
   },
   "outputs": [],
   "source": [
    "q = \"(#malware) OR (#ransomware) OR (#botnet) OR (#androidtrojan) OR (#bankingtrojan) OR (#windowstrojan) OR (#remoteaccesstrojan) OR (#rattrojan) OR (#linuxtrojan) OR (#adware)\tOR (#spyware)\tOR (#keylogger)\tOR (#rootkit)\tOR (#bootkit)\tOR (#rigek)\tOR (#exploitkit) OR (#honeypot)\tOR (#ioc)\tOR (#malspam)\tOR (#crypto-locker)\tOR (#cryptolocker) OR (#crypto-ransomware) OR (#opendir) OR (app.any.run)\tOR (pastebin.com)\tOR (#c2) OR (#md5) OR (#sha256)\tOR (otx.alienvault.com/pulse)\tOR (urlhaus.abuse.ch)\tOR (hybrid-analysis.com) OR (urlscan.io) OR (#spearphishing) OR (#spear-phishing)\tOR (#phishing) OR (#phishingkit) OR (#cyberattack) OR (#cve) OR (#rootkit) OR (#sqlinjection)\tOR (#keylogging) OR (#0day) OR (#keylogger) OR (#passwordcracker)\tOR (#metasploit) OR (#reduc) OR (#zombie) OR (#C&C) OR (#emotet) OR (#cobaltstrike) OR (#scam) OR (#redline) OR (#formbook) OR (#lokibot) OR (#raccoon) lang:en\""
   ]
  },
  {
   "cell_type": "code",
   "execution_count": null,
   "metadata": {
    "colab": {
     "base_uri": "https://localhost:8080/"
    },
    "executionInfo": {
     "elapsed": 548,
     "status": "ok",
     "timestamp": 1688615738927,
     "user": {
      "displayName": "dincyr arikkat",
      "userId": "15274088586090887187"
     },
     "user_tz": -330
    },
    "id": "Hsb4FdJwiLh3",
    "outputId": "dc41a99f-aa56-4b65-89de-1fc95f66c728"
   },
   "outputs": [
    {
     "data": {
      "text/plain": [
       "896"
      ]
     },
     "execution_count": 6,
     "metadata": {},
     "output_type": "execute_result"
    }
   ],
   "source": [
    "len(q)"
   ]
  },
  {
   "cell_type": "code",
   "execution_count": null,
   "metadata": {
    "id": "R8As2shDv5oc"
   },
   "outputs": [],
   "source": [
    "starttime=\"2021-11-01T00:00:00-00:00\"\n",
    "endtime=\"2021-11-10T11:59:59-00:00\""
   ]
  },
  {
   "cell_type": "code",
   "execution_count": null,
   "metadata": {
    "id": "1vV8aX3aI9Tw"
   },
   "outputs": [],
   "source": [
    "#No need to run second time.\n",
    "tweets = client.search_all_tweets(query = q,\n",
    "                                  max_results = 500,\n",
    "                                  start_time = starttime,\n",
    "                                  end_time = endtime,\n",
    "                                  tweet_fields = ['attachments', 'author_id', 'conversation_id', 'created_at', 'entities', 'geo', 'id', 'in_reply_to_user_id', 'lang', 'public_metrics', 'possibly_sensitive', 'referenced_tweets', 'reply_settings', 'source', 'text', 'withheld'],\n",
    "                                  media_fields = ['duration_ms', 'height', 'media_key', 'preview_image_url', 'type', 'url', 'width', 'public_metrics', 'alt_text'],\n",
    "                                  place_fields= ['contained_within', 'country', 'country_code', 'full_name', 'geo', 'id', 'name', 'place_type'],\n",
    "                                  poll_fields=['duration_minutes', 'end_datetime', 'id', 'options', 'voting_status'],\n",
    "                                  user_fields=['created_at', 'description', 'entities', 'id', 'location', 'name', 'pinned_tweet_id', 'profile_image_url', 'protected', 'public_metrics', 'url', 'username', 'verified', 'withheld'],\n",
    "                                  expansions=['attachments.poll_ids', 'attachments.media_keys', 'author_id', 'entities.mentions.username', 'geo.place_id', 'in_reply_to_user_id', 'referenced_tweets.id', 'referenced_tweets.id.author_id'])"
   ]
  },
  {
   "cell_type": "code",
   "execution_count": null,
   "metadata": {
    "colab": {
     "base_uri": "https://localhost:8080/",
     "height": 167
    },
    "executionInfo": {
     "elapsed": 14,
     "status": "error",
     "timestamp": 1688615898182,
     "user": {
      "displayName": "dincyr arikkat",
      "userId": "15274088586090887187"
     },
     "user_tz": -330
    },
    "id": "aZSDxN2dyqgj",
    "outputId": "3682864c-f5df-4624-c1b9-36b0cc9b3916"
   },
   "outputs": [],
   "source": [
    "tweets.data"
   ]
  },
  {
   "cell_type": "code",
   "execution_count": null,
   "metadata": {
    "id": "FfyaU4SsDQMH"
   },
   "outputs": [],
   "source": [
    "def user_entity_value(dicts,key1,key2,key3):\n",
    "  user_value = []\n",
    "  if dicts is not None:\n",
    "    for i in dicts:\n",
    "      if i == key1:\n",
    "        for j in dicts[i]:\n",
    "          if j == key2:\n",
    "            for k in range(0,len(dicts[i][j])):\n",
    "              if key3 in dicts[i][j][k]:\n",
    "                user_value.append(dicts[i][j][k][key3])\n",
    "    if user_value:\n",
    "      return user_value\n",
    "    else:\n",
    "      return None\n",
    "  else:\n",
    "    return None"
   ]
  },
  {
   "cell_type": "code",
   "execution_count": null,
   "metadata": {
    "id": "-6IhqUGgUSs5"
   },
   "outputs": [],
   "source": [
    "def tweet_entity_value(dicts,key1,key2):\n",
    "  tweet_value=[]\n",
    "  if dicts is not None:\n",
    "    for i in dicts:\n",
    "      if i == key1:\n",
    "        for j in range(0,len(dicts[i])):\n",
    "          if key2 in dicts[i][j]:\n",
    "            tweet_value.append(dicts[i][j][key2])\n",
    "    if tweet_value:\n",
    "      return tweet_value\n",
    "    else:\n",
    "      return None\n",
    "  else:\n",
    "    return None"
   ]
  },
  {
   "cell_type": "code",
   "execution_count": null,
   "metadata": {
    "id": "eHCqsCZllcSf"
   },
   "outputs": [],
   "source": [
    "def tweet_referenced_id(rlist):\n",
    "  if rlist is not None:\n",
    "    ref_id=str(str(rlist).split('=')[1]).split()\n",
    "    return ref_id[0]\n",
    "  else:\n",
    "    return None"
   ]
  },
  {
   "cell_type": "code",
   "execution_count": null,
   "metadata": {
    "id": "21jK7tN-v6sc"
   },
   "outputs": [],
   "source": [
    "def tweet_referenced_type(rlist):\n",
    "  if rlist is not None:\n",
    "    ref_type=str(str(rlist).split('=')[2]).split(']')\n",
    "    return ref_type[0]\n",
    "  else:\n",
    "    return None"
   ]
  },
  {
   "cell_type": "code",
   "execution_count": null,
   "metadata": {
    "id": "7aDxBJJcYPwi"
   },
   "outputs": [],
   "source": [
    "def UserInfo():\n",
    "    for u in tweets.includes['users']:\n",
    "      user_info={\n",
    "        'ID':u.id,\n",
    "        'User Name':u.username,\n",
    "        'Screen Name':u.name,\n",
    "        'Creation Date':u.created_at,\n",
    "        'Location':u.location,\n",
    "        'Description':u.description,\n",
    "        'Followers Count':u.public_metrics['followers_count'],\n",
    "        'Following Count':u.public_metrics['following_count'],\n",
    "        'Listed Count':u.public_metrics['listed_count'],\n",
    "        'Tweet Count':u.public_metrics['tweet_count'],\n",
    "        'Profile Image URL':u.profile_image_url,\n",
    "        'URL':u.url,\n",
    "        'Protected':u.protected,\n",
    "        'Verified':u.verified,\n",
    "        'Pinned Tweet ID':u.pinned_tweet_id,\n",
    "        'Entities': u.entities,\n",
    "        'Username mentioned in Entity':user_entity_value(u.entities,'description','mentions','username'),\n",
    "        'URL mentioned in Entity':user_entity_value(u.entities,'url','urls','url'),\n",
    "        'Expanded URL mentioned in Entity':user_entity_value(u.entities,'url','urls','expanded_url'),\n",
    "        'Display URL mentioned in Entity':user_entity_value(u.entities,'url','urls','display_url'),\n",
    "        'Hashtags mentioned in Entity': user_entity_value(u.entities,'description','hashtags','tag')\n",
    "        }\n",
    "      user_info_ls.append(user_info)\n",
    "\n"
   ]
  },
  {
   "cell_type": "code",
   "execution_count": null,
   "metadata": {
    "id": "nt5vFvyL02lu"
   },
   "outputs": [],
   "source": [
    "def return_name(author_id,name):\n",
    "  for u in tweets.includes['users']:\n",
    "    if u.id==author_id:\n",
    "      if name=='username':\n",
    "        return u.username\n",
    "      elif name=='name':\n",
    "        return u.name\n"
   ]
  },
  {
   "cell_type": "code",
   "execution_count": null,
   "metadata": {
    "id": "UVlBjp6UJC-2"
   },
   "outputs": [],
   "source": [
    "def TweetValues():\n",
    "  if tweets.data is not None:\n",
    "    # iterate over each tweet and corresponding user details\n",
    "    for tweet in tweets.data:\n",
    "      tweet_info = {\n",
    "        'Author ID':tweet.author_id,\n",
    "        'User Name': return_name(tweet.author_id,'username'),\n",
    "        'Screen Name':return_name(tweet.author_id,'name'),\n",
    "        'Tweet ID': tweet.id,\n",
    "        'Created At': tweet.created_at,\n",
    "        'Text': tweet.text,\n",
    "        'Like Count':tweet.public_metrics['like_count'],\n",
    "        'Quote Count': tweet.public_metrics['quote_count'],\n",
    "        'Reply Count': tweet.public_metrics['reply_count'],\n",
    "        'Retweet Count': tweet.public_metrics['retweet_count'],\n",
    "        'Entities':tweet.entities,\n",
    "        'Expanded URL': tweet_entity_value(tweet.entities,'urls','expanded_url'),\n",
    "        'Hashtag':tweet_entity_value(tweet.entities,'hashtags','tag'),\n",
    "        'Mentioned Username':tweet_entity_value(tweet.entities,'mentions','username'),\n",
    "        'Annotated Entity':tweet_entity_value(tweet.entities,'annotations','normalized_text'),\n",
    "        'Annotation Probability':tweet_entity_value(tweet.entities,'annotations','probability'),\n",
    "        'Annotation Type':tweet_entity_value(tweet.entities,'annotations','type'),\n",
    "        'Conversation ID': tweet.conversation_id,\n",
    "        'Referenced Tweets': tweet.referenced_tweets,\n",
    "        'ID of Referenced Tweets': tweet_referenced_id(tweet.referenced_tweets),\n",
    "        'Type of Referenced Tweets': tweet_referenced_type(tweet.referenced_tweets),\n",
    "        'Attachments': tweet.attachments,\n",
    "        'Location tagged by the user': tweet.geo,\n",
    "        'Language':tweet.lang,\n",
    "        'Sensitive URL': tweet.possibly_sensitive,\n",
    "        'Reply Settings': tweet.reply_settings,\n",
    "        'Source': tweet.source\n",
    "        }\n",
    "      if tweet_info['Language']=='en':\n",
    "        tweet_info_ls.append(tweet_info)"
   ]
  },
  {
   "cell_type": "code",
   "execution_count": null,
   "metadata": {
    "id": "Yv-qVhhXGZsc"
   },
   "outputs": [],
   "source": [
    "#Second time skip this code\n",
    "# create a list of records\n",
    "tweet_info_ls = []\n",
    "user_info_ls = []\n",
    "TweetValues()\n",
    "UserInfo()\n",
    "#tweet_df1 = pd.DataFrame(tweet_info_ls)\n",
    "#user_df1 = pd.DataFrame(user_info_ls)"
   ]
  },
  {
   "cell_type": "code",
   "execution_count": null,
   "metadata": {
    "id": "NexnnqLcFyUE"
   },
   "outputs": [],
   "source": [
    "while True:\n",
    "  if 'next_token' in tweets.meta:\n",
    "    tweets = client.search_all_tweets(query = q,\n",
    "                                      max_results = 500,\n",
    "                                      start_time = starttime,\n",
    "                                      end_time = endtime,\n",
    "                                      tweet_fields = ['attachments', 'author_id', 'conversation_id', 'created_at', 'entities', 'geo', 'id', 'in_reply_to_user_id', 'lang', 'public_metrics', 'possibly_sensitive', 'referenced_tweets', 'reply_settings', 'source', 'text', 'withheld'],\n",
    "                                      media_fields = ['duration_ms', 'height', 'media_key', 'preview_image_url', 'type', 'url', 'width', 'public_metrics', 'alt_text'],\n",
    "                                      place_fields= ['contained_within', 'country', 'country_code', 'full_name', 'geo', 'id', 'name', 'place_type'],\n",
    "                                      poll_fields=['duration_minutes', 'end_datetime', 'id', 'options', 'voting_status'],\n",
    "                                      user_fields=['created_at', 'description', 'entities', 'id', 'location', 'name', 'pinned_tweet_id', 'profile_image_url', 'protected', 'public_metrics', 'url', 'username', 'verified', 'withheld'],\n",
    "                                      expansions=['attachments.poll_ids', 'attachments.media_keys', 'author_id', 'entities.mentions.username', 'geo.place_id', 'in_reply_to_user_id', 'referenced_tweets.id', 'referenced_tweets.id.author_id'],\n",
    "                                      next_token = tweets.meta['next_token'])\n",
    "    TweetValues()\n",
    "    UserInfo()\n",
    "  else:\n",
    "    break\n",
    "tweet_df1 = pd.DataFrame(tweet_info_ls)\n",
    "user_df1 = pd.DataFrame(user_info_ls)\n"
   ]
  },
  {
   "cell_type": "code",
   "execution_count": null,
   "metadata": {
    "id": "FXkF2LIuRvkt"
   },
   "outputs": [],
   "source": [
    "'''\n",
    "tweet_info_ls = []\n",
    "user_info_ls = []\n",
    "last_date=tweet_df1['Created At'][tweet_df1.index[-1]]\n",
    "for i in range(0,50):\n",
    "  tweets = client.search_all_tweets(query = q,max_results = 500, start_time = \"2021-06-01T00:00:00-00:00\", end_time = last_date, tweet_fields = ['attachments', 'author_id', 'conversation_id', 'created_at', 'entities', 'geo', 'id', 'in_reply_to_user_id', 'lang', 'public_metrics', 'possibly_sensitive', 'referenced_tweets', 'reply_settings', 'source', 'text', 'withheld'],media_fields = ['duration_ms', 'height', 'media_key', 'preview_image_url', 'type', 'url', 'width', 'public_metrics', 'alt_text'],place_fields= ['contained_within', 'country', 'country_code', 'full_name', 'geo', 'id', 'name', 'place_type'],poll_fields=['duration_minutes', 'end_datetime', 'id', 'options', 'voting_status'],user_fields=['created_at', 'description', 'entities', 'id', 'location', 'name', 'pinned_tweet_id', 'profile_image_url', 'protected', 'public_metrics', 'url', 'username', 'verified', 'withheld'],expansions=['attachments.poll_ids', 'attachments.media_keys', 'author_id', 'entities.mentions.username', 'geo.place_id', 'in_reply_to_user_id', 'referenced_tweets.id', 'referenced_tweets.id.author_id'])\n",
    "  TweetValues()\n",
    "  UserInfo()\n",
    "  # create dataframe from the extracted records\n",
    "  tweet_df2 = pd.DataFrame(tweet_info_ls)\n",
    "  user_df2=pd.DataFrame(user_info_ls)\n",
    "  tweet_df1 = tweet_df1.append(tweet_df2, ignore_index = True)\n",
    "  user_df1 = user_df1.append(user_df2, ignore_index = True)\n",
    "  last_date=tweet_df2['Created At'][tweet_df2.index[-1]]\n",
    "'''"
   ]
  },
  {
   "cell_type": "code",
   "execution_count": null,
   "metadata": {
    "colab": {
     "base_uri": "https://localhost:8080/"
    },
    "executionInfo": {
     "elapsed": 1095,
     "status": "ok",
     "timestamp": 1656911476178,
     "user": {
      "displayName": "dincyr arikkat",
      "userId": "15274088586090887187"
     },
     "user_tz": -330
    },
    "id": "6LvyFznbAmNE",
    "outputId": "cf316bdb-67c3-4f26-9c96-0981044f596d"
   },
   "outputs": [
    {
     "data": {
      "text/plain": [
       "Timestamp('2021-10-01 00:00:03+0000', tz='UTC')"
      ]
     },
     "execution_count": 18,
     "metadata": {},
     "output_type": "execute_result"
    }
   ],
   "source": [
    "last_date=tweet_df1['Created At'][tweet_df1.index[-1]]\n",
    "last_date"
   ]
  },
  {
   "cell_type": "code",
   "execution_count": null,
   "metadata": {
    "colab": {
     "base_uri": "https://localhost:8080/"
    },
    "executionInfo": {
     "elapsed": 1015,
     "status": "ok",
     "timestamp": 1656572770685,
     "user": {
      "displayName": "dincyr arikkat",
      "userId": "15274088586090887187"
     },
     "user_tz": -330
    },
    "id": "jyLnh7QwMTON",
    "outputId": "8a6e7735-8c97-412c-a843-b93e2b44e757"
   },
   "outputs": [
    {
     "data": {
      "text/plain": [
       "71012"
      ]
     },
     "execution_count": 57,
     "metadata": {},
     "output_type": "execute_result"
    }
   ],
   "source": [
    "len(tweet_df1)"
   ]
  },
  {
   "cell_type": "code",
   "execution_count": null,
   "metadata": {
    "id": "KZkMLK9LPUvn"
   },
   "outputs": [],
   "source": [
    "user_df1.to_csv(\"/content/drive/MyDrive/Final_Dataset/October/October_2021_11_20_user.csv\")\n",
    "tweet_df1.to_csv(\"/content/drive/MyDrive/Final_Dataset/October/October_2021_11_20_tweet.csv\")"
   ]
  }
 ],
 "metadata": {
  "accelerator": "GPU",
  "colab": {
   "machine_shape": "hm",
   "provenance": [
    {
     "file_id": "16HwSMReAq2ltareAbK711ECLbOkwfEEB",
     "timestamp": 1645721975269
    },
    {
     "file_id": "1ToynKN7DinGqBivMhEg22jKYVVbqBYwy",
     "timestamp": 1645612784672
    }
   ]
  },
  "kernelspec": {
   "display_name": "Python 3",
   "name": "python3"
  },
  "language_info": {
   "name": "python"
  }
 },
 "nbformat": 4,
 "nbformat_minor": 0
}
