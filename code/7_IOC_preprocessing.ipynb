{
 "cells": [
  {
   "cell_type": "code",
   "execution_count": 2,
   "metadata": {
    "colab": {
     "base_uri": "https://localhost:8080/"
    },
    "executionInfo": {
     "elapsed": 26123,
     "status": "ok",
     "timestamp": 1668383721222,
     "user": {
      "displayName": "dincyr arikkat",
      "userId": "15274088586090887187"
     },
     "user_tz": -330
    },
    "id": "h7dHw26U8juW",
    "outputId": "90c4e057-af7b-4080-e9b5-65f8f57bb697"
   },
   "outputs": [
    {
     "name": "stdout",
     "output_type": "stream",
     "text": [
      "Mounted at /content/drive\n"
     ]
    }
   ],
   "source": [
    "!pip install -U -q PyDrive\n",
    "from pydrive.auth import GoogleAuth\n",
    "from pydrive.drive import GoogleDrive\n",
    "from google.colab import auth\n",
    "from oauth2client.client import GoogleCredentials\n",
    "\n",
    "\n",
    "from google.colab import drive\n",
    "drive.mount('/content/drive')"
   ]
  },
  {
   "cell_type": "code",
   "execution_count": 3,
   "metadata": {
    "executionInfo": {
     "elapsed": 755,
     "status": "ok",
     "timestamp": 1668383726902,
     "user": {
      "displayName": "dincyr arikkat",
      "userId": "15274088586090887187"
     },
     "user_tz": -330
    },
    "id": "yrEJ2F33AQs1"
   },
   "outputs": [],
   "source": [
    "import pandas as pd\n",
    "import csv\n",
    "import re\n",
    "import ast\n",
    "import requests\n",
    "import urllib.request\n",
    "from urllib.request import urlopen\n"
   ]
  },
  {
   "cell_type": "code",
   "execution_count": null,
   "metadata": {
    "id": "pIePIHYMHnV3"
   },
   "outputs": [],
   "source": [
    "ioc_df=pd.read_csv(\"/content/drive/MyDrive/output/Final_IOC_13_11_2022.csv\",lineterminator='\\n')"
   ]
  },
  {
   "cell_type": "code",
   "execution_count": null,
   "metadata": {
    "colab": {
     "base_uri": "https://localhost:8080/",
     "height": 748
    },
    "executionInfo": {
     "elapsed": 404,
     "status": "ok",
     "timestamp": 1668312996026,
     "user": {
      "displayName": "dincyr arikkat",
      "userId": "15274088586090887187"
     },
     "user_tz": -330
    },
    "id": "0M-aSISzH1zt",
    "outputId": "eca2b105-3cab-426c-dbb7-93211368c45c"
   },
   "outputs": [
    {
     "data": {
      "text/html": [
       "\n",
       "  <div id=\"df-82cb08bf-feea-4133-a832-f14f10fd6da1\">\n",
       "    <div class=\"colab-df-container\">\n",
       "      <div>\n",
       "<style scoped>\n",
       "    .dataframe tbody tr th:only-of-type {\n",
       "        vertical-align: middle;\n",
       "    }\n",
       "\n",
       "    .dataframe tbody tr th {\n",
       "        vertical-align: top;\n",
       "    }\n",
       "\n",
       "    .dataframe thead th {\n",
       "        text-align: right;\n",
       "    }\n",
       "</style>\n",
       "<table border=\"1\" class=\"dataframe\">\n",
       "  <thead>\n",
       "    <tr style=\"text-align: right;\">\n",
       "      <th></th>\n",
       "      <th>tweet_date</th>\n",
       "      <th>account</th>\n",
       "      <th>ioc_type</th>\n",
       "      <th>ioc_value</th>\n",
       "      <th>type_of_attack</th>\n",
       "      <th>tweet_id</th>\n",
       "      <th>text</th>\n",
       "      <th>Mentioned Hashtag</th>\n",
       "      <th>Expanded URL</th>\n",
       "    </tr>\n",
       "  </thead>\n",
       "  <tbody>\n",
       "    <tr>\n",
       "      <th>0</th>\n",
       "      <td>2021-01-01 00:09:03+00:00</td>\n",
       "      <td>MalwarePatrol</td>\n",
       "      <td>url</td>\n",
       "      <td>http://dubioustimes.com/</td>\n",
       "      <td>['phishing']</td>\n",
       "      <td>1.344798e+18</td>\n",
       "      <td>Another active #Phishing targeting Google Driv...</td>\n",
       "      <td>['Phishing', 'onpatrol4malware']</td>\n",
       "      <td>['https://twitter.com/MalwarePatrol/status/134...</td>\n",
       "    </tr>\n",
       "    <tr>\n",
       "      <th>1</th>\n",
       "      <td>2021-01-01 00:09:03+00:00</td>\n",
       "      <td>MalwarePatrol</td>\n",
       "      <td>url</td>\n",
       "      <td>https://t.co/m4mjDMt7az</td>\n",
       "      <td>['phishing']</td>\n",
       "      <td>1.344798e+18</td>\n",
       "      <td>Another active #Phishing targeting Google Driv...</td>\n",
       "      <td>['Phishing', 'onpatrol4malware']</td>\n",
       "      <td>['https://twitter.com/MalwarePatrol/status/134...</td>\n",
       "    </tr>\n",
       "    <tr>\n",
       "      <th>2</th>\n",
       "      <td>2021-01-01 00:09:03+00:00</td>\n",
       "      <td>MalwarePatrol</td>\n",
       "      <td>domain</td>\n",
       "      <td>dubioustimes.com</td>\n",
       "      <td>['phishing']</td>\n",
       "      <td>1.344798e+18</td>\n",
       "      <td>Another active #Phishing targeting Google Driv...</td>\n",
       "      <td>['Phishing', 'onpatrol4malware']</td>\n",
       "      <td>['https://twitter.com/MalwarePatrol/status/134...</td>\n",
       "    </tr>\n",
       "    <tr>\n",
       "      <th>3</th>\n",
       "      <td>2021-01-01 00:09:03+00:00</td>\n",
       "      <td>MalwarePatrol</td>\n",
       "      <td>domain</td>\n",
       "      <td>t.co</td>\n",
       "      <td>['phishing']</td>\n",
       "      <td>1.344798e+18</td>\n",
       "      <td>Another active #Phishing targeting Google Driv...</td>\n",
       "      <td>['Phishing', 'onpatrol4malware']</td>\n",
       "      <td>['https://twitter.com/MalwarePatrol/status/134...</td>\n",
       "    </tr>\n",
       "    <tr>\n",
       "      <th>4</th>\n",
       "      <td>2021-01-01 00:26:26+00:00</td>\n",
       "      <td>PhishStats</td>\n",
       "      <td>url</td>\n",
       "      <td>http://departmen-advant-page.my.id/</td>\n",
       "      <td>['phishing']</td>\n",
       "      <td>1.344802e+18</td>\n",
       "      <td>new #phishing at hXXp://departmen-advant-page[...</td>\n",
       "      <td>['phishing', 'infosec', 'cybersecurity']</td>\n",
       "      <td>['https://twitter.com/PhishStats/status/134480...</td>\n",
       "    </tr>\n",
       "    <tr>\n",
       "      <th>...</th>\n",
       "      <td>...</td>\n",
       "      <td>...</td>\n",
       "      <td>...</td>\n",
       "      <td>...</td>\n",
       "      <td>...</td>\n",
       "      <td>...</td>\n",
       "      <td>...</td>\n",
       "      <td>...</td>\n",
       "      <td>...</td>\n",
       "    </tr>\n",
       "    <tr>\n",
       "      <th>195509</th>\n",
       "      <td>2021-07-31 23:06:42+00:00</td>\n",
       "      <td>BethkazV</td>\n",
       "      <td>url</td>\n",
       "      <td>https://www.esetphishingderby.com?score=65</td>\n",
       "      <td>['phishing']</td>\n",
       "      <td>1.421608e+18</td>\n",
       "      <td>Test your knowledge at https://t.co/yvg8zciMOZ...</td>\n",
       "      <td>['eset', 'antivirus', 'phishing', 'contest', '...</td>\n",
       "      <td>['https://www.esetphishingderby.com?score=65']</td>\n",
       "    </tr>\n",
       "    <tr>\n",
       "      <th>195510</th>\n",
       "      <td>2021-07-31 23:06:42+00:00</td>\n",
       "      <td>BethkazV</td>\n",
       "      <td>domain</td>\n",
       "      <td>t.co</td>\n",
       "      <td>['phishing']</td>\n",
       "      <td>1.421608e+18</td>\n",
       "      <td>Test your knowledge at https://t.co/yvg8zciMOZ...</td>\n",
       "      <td>['eset', 'antivirus', 'phishing', 'contest', '...</td>\n",
       "      <td>['https://www.esetphishingderby.com?score=65']</td>\n",
       "    </tr>\n",
       "    <tr>\n",
       "      <th>195511</th>\n",
       "      <td>2021-07-31 23:37:40+00:00</td>\n",
       "      <td>ecarlesi</td>\n",
       "      <td>domain</td>\n",
       "      <td>t.co</td>\n",
       "      <td>['opendir', 'phishing']</td>\n",
       "      <td>1.421616e+18</td>\n",
       "      <td>Threat on hxxp://certiport[.]games/postale[.]z...</td>\n",
       "      <td>['phishing', 'opendir', 'namedotcom']</td>\n",
       "      <td>['https://twitter.com/ecarlesi/status/14216160...</td>\n",
       "    </tr>\n",
       "    <tr>\n",
       "      <th>195512</th>\n",
       "      <td>2021-07-31 23:50:02+00:00</td>\n",
       "      <td>HeliosCert</td>\n",
       "      <td>ip</td>\n",
       "      <td>185.27.116.4</td>\n",
       "      <td>['malware']</td>\n",
       "      <td>1.421619e+18</td>\n",
       "      <td>Sample submitted\\n2021-07-31 23:50:02\\nDionaea...</td>\n",
       "      <td>['malware', 'cyber', 'security']</td>\n",
       "      <td>NaN</td>\n",
       "    </tr>\n",
       "    <tr>\n",
       "      <th>195513</th>\n",
       "      <td>2021-07-31 23:50:02+00:00</td>\n",
       "      <td>HeliosCert</td>\n",
       "      <td>hash</td>\n",
       "      <td>bbc8bb388a16d39eb024f81b35819cabec5c1a35b5603c...</td>\n",
       "      <td>['malware']</td>\n",
       "      <td>1.421619e+18</td>\n",
       "      <td>Sample submitted\\n2021-07-31 23:50:02\\nDionaea...</td>\n",
       "      <td>['malware', 'cyber', 'security']</td>\n",
       "      <td>NaN</td>\n",
       "    </tr>\n",
       "  </tbody>\n",
       "</table>\n",
       "<p>195514 rows × 9 columns</p>\n",
       "</div>\n",
       "      <button class=\"colab-df-convert\" onclick=\"convertToInteractive('df-82cb08bf-feea-4133-a832-f14f10fd6da1')\"\n",
       "              title=\"Convert this dataframe to an interactive table.\"\n",
       "              style=\"display:none;\">\n",
       "        \n",
       "  <svg xmlns=\"http://www.w3.org/2000/svg\" height=\"24px\"viewBox=\"0 0 24 24\"\n",
       "       width=\"24px\">\n",
       "    <path d=\"M0 0h24v24H0V0z\" fill=\"none\"/>\n",
       "    <path d=\"M18.56 5.44l.94 2.06.94-2.06 2.06-.94-2.06-.94-.94-2.06-.94 2.06-2.06.94zm-11 1L8.5 8.5l.94-2.06 2.06-.94-2.06-.94L8.5 2.5l-.94 2.06-2.06.94zm10 10l.94 2.06.94-2.06 2.06-.94-2.06-.94-.94-2.06-.94 2.06-2.06.94z\"/><path d=\"M17.41 7.96l-1.37-1.37c-.4-.4-.92-.59-1.43-.59-.52 0-1.04.2-1.43.59L10.3 9.45l-7.72 7.72c-.78.78-.78 2.05 0 2.83L4 21.41c.39.39.9.59 1.41.59.51 0 1.02-.2 1.41-.59l7.78-7.78 2.81-2.81c.8-.78.8-2.07 0-2.86zM5.41 20L4 18.59l7.72-7.72 1.47 1.35L5.41 20z\"/>\n",
       "  </svg>\n",
       "      </button>\n",
       "      \n",
       "  <style>\n",
       "    .colab-df-container {\n",
       "      display:flex;\n",
       "      flex-wrap:wrap;\n",
       "      gap: 12px;\n",
       "    }\n",
       "\n",
       "    .colab-df-convert {\n",
       "      background-color: #E8F0FE;\n",
       "      border: none;\n",
       "      border-radius: 50%;\n",
       "      cursor: pointer;\n",
       "      display: none;\n",
       "      fill: #1967D2;\n",
       "      height: 32px;\n",
       "      padding: 0 0 0 0;\n",
       "      width: 32px;\n",
       "    }\n",
       "\n",
       "    .colab-df-convert:hover {\n",
       "      background-color: #E2EBFA;\n",
       "      box-shadow: 0px 1px 2px rgba(60, 64, 67, 0.3), 0px 1px 3px 1px rgba(60, 64, 67, 0.15);\n",
       "      fill: #174EA6;\n",
       "    }\n",
       "\n",
       "    [theme=dark] .colab-df-convert {\n",
       "      background-color: #3B4455;\n",
       "      fill: #D2E3FC;\n",
       "    }\n",
       "\n",
       "    [theme=dark] .colab-df-convert:hover {\n",
       "      background-color: #434B5C;\n",
       "      box-shadow: 0px 1px 3px 1px rgba(0, 0, 0, 0.15);\n",
       "      filter: drop-shadow(0px 1px 2px rgba(0, 0, 0, 0.3));\n",
       "      fill: #FFFFFF;\n",
       "    }\n",
       "  </style>\n",
       "\n",
       "      <script>\n",
       "        const buttonEl =\n",
       "          document.querySelector('#df-82cb08bf-feea-4133-a832-f14f10fd6da1 button.colab-df-convert');\n",
       "        buttonEl.style.display =\n",
       "          google.colab.kernel.accessAllowed ? 'block' : 'none';\n",
       "\n",
       "        async function convertToInteractive(key) {\n",
       "          const element = document.querySelector('#df-82cb08bf-feea-4133-a832-f14f10fd6da1');\n",
       "          const dataTable =\n",
       "            await google.colab.kernel.invokeFunction('convertToInteractive',\n",
       "                                                     [key], {});\n",
       "          if (!dataTable) return;\n",
       "\n",
       "          const docLinkHtml = 'Like what you see? Visit the ' +\n",
       "            '<a target=\"_blank\" href=https://colab.research.google.com/notebooks/data_table.ipynb>data table notebook</a>'\n",
       "            + ' to learn more about interactive tables.';\n",
       "          element.innerHTML = '';\n",
       "          dataTable['output_type'] = 'display_data';\n",
       "          await google.colab.output.renderOutput(dataTable, element);\n",
       "          const docLink = document.createElement('div');\n",
       "          docLink.innerHTML = docLinkHtml;\n",
       "          element.appendChild(docLink);\n",
       "        }\n",
       "      </script>\n",
       "    </div>\n",
       "  </div>\n",
       "  "
      ],
      "text/plain": [
       "                       tweet_date        account ioc_type  \\\n",
       "0       2021-01-01 00:09:03+00:00  MalwarePatrol      url   \n",
       "1       2021-01-01 00:09:03+00:00  MalwarePatrol      url   \n",
       "2       2021-01-01 00:09:03+00:00  MalwarePatrol   domain   \n",
       "3       2021-01-01 00:09:03+00:00  MalwarePatrol   domain   \n",
       "4       2021-01-01 00:26:26+00:00     PhishStats      url   \n",
       "...                           ...            ...      ...   \n",
       "195509  2021-07-31 23:06:42+00:00       BethkazV      url   \n",
       "195510  2021-07-31 23:06:42+00:00       BethkazV   domain   \n",
       "195511  2021-07-31 23:37:40+00:00       ecarlesi   domain   \n",
       "195512  2021-07-31 23:50:02+00:00     HeliosCert       ip   \n",
       "195513  2021-07-31 23:50:02+00:00     HeliosCert     hash   \n",
       "\n",
       "                                                ioc_value  \\\n",
       "0                                http://dubioustimes.com/   \n",
       "1                                 https://t.co/m4mjDMt7az   \n",
       "2                                        dubioustimes.com   \n",
       "3                                                    t.co   \n",
       "4                     http://departmen-advant-page.my.id/   \n",
       "...                                                   ...   \n",
       "195509         https://www.esetphishingderby.com?score=65   \n",
       "195510                                               t.co   \n",
       "195511                                               t.co   \n",
       "195512                                       185.27.116.4   \n",
       "195513  bbc8bb388a16d39eb024f81b35819cabec5c1a35b5603c...   \n",
       "\n",
       "                 type_of_attack      tweet_id  \\\n",
       "0                  ['phishing']  1.344798e+18   \n",
       "1                  ['phishing']  1.344798e+18   \n",
       "2                  ['phishing']  1.344798e+18   \n",
       "3                  ['phishing']  1.344798e+18   \n",
       "4                  ['phishing']  1.344802e+18   \n",
       "...                         ...           ...   \n",
       "195509             ['phishing']  1.421608e+18   \n",
       "195510             ['phishing']  1.421608e+18   \n",
       "195511  ['opendir', 'phishing']  1.421616e+18   \n",
       "195512              ['malware']  1.421619e+18   \n",
       "195513              ['malware']  1.421619e+18   \n",
       "\n",
       "                                                     text  \\\n",
       "0       Another active #Phishing targeting Google Driv...   \n",
       "1       Another active #Phishing targeting Google Driv...   \n",
       "2       Another active #Phishing targeting Google Driv...   \n",
       "3       Another active #Phishing targeting Google Driv...   \n",
       "4       new #phishing at hXXp://departmen-advant-page[...   \n",
       "...                                                   ...   \n",
       "195509  Test your knowledge at https://t.co/yvg8zciMOZ...   \n",
       "195510  Test your knowledge at https://t.co/yvg8zciMOZ...   \n",
       "195511  Threat on hxxp://certiport[.]games/postale[.]z...   \n",
       "195512  Sample submitted\\n2021-07-31 23:50:02\\nDionaea...   \n",
       "195513  Sample submitted\\n2021-07-31 23:50:02\\nDionaea...   \n",
       "\n",
       "                                        Mentioned Hashtag  \\\n",
       "0                        ['Phishing', 'onpatrol4malware']   \n",
       "1                        ['Phishing', 'onpatrol4malware']   \n",
       "2                        ['Phishing', 'onpatrol4malware']   \n",
       "3                        ['Phishing', 'onpatrol4malware']   \n",
       "4                ['phishing', 'infosec', 'cybersecurity']   \n",
       "...                                                   ...   \n",
       "195509  ['eset', 'antivirus', 'phishing', 'contest', '...   \n",
       "195510  ['eset', 'antivirus', 'phishing', 'contest', '...   \n",
       "195511              ['phishing', 'opendir', 'namedotcom']   \n",
       "195512                   ['malware', 'cyber', 'security']   \n",
       "195513                   ['malware', 'cyber', 'security']   \n",
       "\n",
       "                                             Expanded URL  \n",
       "0       ['https://twitter.com/MalwarePatrol/status/134...  \n",
       "1       ['https://twitter.com/MalwarePatrol/status/134...  \n",
       "2       ['https://twitter.com/MalwarePatrol/status/134...  \n",
       "3       ['https://twitter.com/MalwarePatrol/status/134...  \n",
       "4       ['https://twitter.com/PhishStats/status/134480...  \n",
       "...                                                   ...  \n",
       "195509     ['https://www.esetphishingderby.com?score=65']  \n",
       "195510     ['https://www.esetphishingderby.com?score=65']  \n",
       "195511  ['https://twitter.com/ecarlesi/status/14216160...  \n",
       "195512                                                NaN  \n",
       "195513                                                NaN  \n",
       "\n",
       "[195514 rows x 9 columns]"
      ]
     },
     "execution_count": 4,
     "metadata": {},
     "output_type": "execute_result"
    }
   ],
   "source": [
    "ioc_df"
   ]
  },
  {
   "cell_type": "code",
   "execution_count": null,
   "metadata": {
    "id": "l-Y-MsfZH4ur"
   },
   "outputs": [],
   "source": [
    "del ioc_df['index']"
   ]
  },
  {
   "cell_type": "code",
   "execution_count": null,
   "metadata": {
    "id": "Z8OsMnqlIABf"
   },
   "outputs": [],
   "source": [
    "del ioc_df['Mentioned Hashtag']"
   ]
  },
  {
   "cell_type": "code",
   "execution_count": null,
   "metadata": {
    "id": "q77fKHqyIPvp"
   },
   "outputs": [],
   "source": [
    "del ioc_df['Expanded URL']"
   ]
  },
  {
   "cell_type": "code",
   "execution_count": null,
   "metadata": {
    "colab": {
     "base_uri": "https://localhost:8080/",
     "height": 661
    },
    "executionInfo": {
     "elapsed": 625,
     "status": "ok",
     "timestamp": 1668313034525,
     "user": {
      "displayName": "dincyr arikkat",
      "userId": "15274088586090887187"
     },
     "user_tz": -330
    },
    "id": "vkzTZ85oIVOs",
    "outputId": "a4a41a4b-c08c-42ca-f268-07f6f2a53b37"
   },
   "outputs": [
    {
     "data": {
      "text/html": [
       "\n",
       "  <div id=\"df-09b0c4b0-4e67-4bd4-bc0d-87cec472cb16\">\n",
       "    <div class=\"colab-df-container\">\n",
       "      <div>\n",
       "<style scoped>\n",
       "    .dataframe tbody tr th:only-of-type {\n",
       "        vertical-align: middle;\n",
       "    }\n",
       "\n",
       "    .dataframe tbody tr th {\n",
       "        vertical-align: top;\n",
       "    }\n",
       "\n",
       "    .dataframe thead th {\n",
       "        text-align: right;\n",
       "    }\n",
       "</style>\n",
       "<table border=\"1\" class=\"dataframe\">\n",
       "  <thead>\n",
       "    <tr style=\"text-align: right;\">\n",
       "      <th></th>\n",
       "      <th>tweet_date</th>\n",
       "      <th>account</th>\n",
       "      <th>ioc_type</th>\n",
       "      <th>ioc_value</th>\n",
       "      <th>type_of_attack</th>\n",
       "      <th>tweet_id</th>\n",
       "      <th>text</th>\n",
       "    </tr>\n",
       "  </thead>\n",
       "  <tbody>\n",
       "    <tr>\n",
       "      <th>0</th>\n",
       "      <td>2021-01-01 00:09:03+00:00</td>\n",
       "      <td>MalwarePatrol</td>\n",
       "      <td>url</td>\n",
       "      <td>http://dubioustimes.com/</td>\n",
       "      <td>['phishing']</td>\n",
       "      <td>1.344798e+18</td>\n",
       "      <td>Another active #Phishing targeting Google Driv...</td>\n",
       "    </tr>\n",
       "    <tr>\n",
       "      <th>1</th>\n",
       "      <td>2021-01-01 00:09:03+00:00</td>\n",
       "      <td>MalwarePatrol</td>\n",
       "      <td>url</td>\n",
       "      <td>https://t.co/m4mjDMt7az</td>\n",
       "      <td>['phishing']</td>\n",
       "      <td>1.344798e+18</td>\n",
       "      <td>Another active #Phishing targeting Google Driv...</td>\n",
       "    </tr>\n",
       "    <tr>\n",
       "      <th>2</th>\n",
       "      <td>2021-01-01 00:09:03+00:00</td>\n",
       "      <td>MalwarePatrol</td>\n",
       "      <td>domain</td>\n",
       "      <td>dubioustimes.com</td>\n",
       "      <td>['phishing']</td>\n",
       "      <td>1.344798e+18</td>\n",
       "      <td>Another active #Phishing targeting Google Driv...</td>\n",
       "    </tr>\n",
       "    <tr>\n",
       "      <th>3</th>\n",
       "      <td>2021-01-01 00:09:03+00:00</td>\n",
       "      <td>MalwarePatrol</td>\n",
       "      <td>domain</td>\n",
       "      <td>t.co</td>\n",
       "      <td>['phishing']</td>\n",
       "      <td>1.344798e+18</td>\n",
       "      <td>Another active #Phishing targeting Google Driv...</td>\n",
       "    </tr>\n",
       "    <tr>\n",
       "      <th>4</th>\n",
       "      <td>2021-01-01 00:26:26+00:00</td>\n",
       "      <td>PhishStats</td>\n",
       "      <td>url</td>\n",
       "      <td>http://departmen-advant-page.my.id/</td>\n",
       "      <td>['phishing']</td>\n",
       "      <td>1.344802e+18</td>\n",
       "      <td>new #phishing at hXXp://departmen-advant-page[...</td>\n",
       "    </tr>\n",
       "    <tr>\n",
       "      <th>...</th>\n",
       "      <td>...</td>\n",
       "      <td>...</td>\n",
       "      <td>...</td>\n",
       "      <td>...</td>\n",
       "      <td>...</td>\n",
       "      <td>...</td>\n",
       "      <td>...</td>\n",
       "    </tr>\n",
       "    <tr>\n",
       "      <th>195509</th>\n",
       "      <td>2021-07-31 23:06:42+00:00</td>\n",
       "      <td>BethkazV</td>\n",
       "      <td>url</td>\n",
       "      <td>https://www.esetphishingderby.com?score=65</td>\n",
       "      <td>['phishing']</td>\n",
       "      <td>1.421608e+18</td>\n",
       "      <td>Test your knowledge at https://t.co/yvg8zciMOZ...</td>\n",
       "    </tr>\n",
       "    <tr>\n",
       "      <th>195510</th>\n",
       "      <td>2021-07-31 23:06:42+00:00</td>\n",
       "      <td>BethkazV</td>\n",
       "      <td>domain</td>\n",
       "      <td>t.co</td>\n",
       "      <td>['phishing']</td>\n",
       "      <td>1.421608e+18</td>\n",
       "      <td>Test your knowledge at https://t.co/yvg8zciMOZ...</td>\n",
       "    </tr>\n",
       "    <tr>\n",
       "      <th>195511</th>\n",
       "      <td>2021-07-31 23:37:40+00:00</td>\n",
       "      <td>ecarlesi</td>\n",
       "      <td>domain</td>\n",
       "      <td>t.co</td>\n",
       "      <td>['opendir', 'phishing']</td>\n",
       "      <td>1.421616e+18</td>\n",
       "      <td>Threat on hxxp://certiport[.]games/postale[.]z...</td>\n",
       "    </tr>\n",
       "    <tr>\n",
       "      <th>195512</th>\n",
       "      <td>2021-07-31 23:50:02+00:00</td>\n",
       "      <td>HeliosCert</td>\n",
       "      <td>ip</td>\n",
       "      <td>185.27.116.4</td>\n",
       "      <td>['malware']</td>\n",
       "      <td>1.421619e+18</td>\n",
       "      <td>Sample submitted\\n2021-07-31 23:50:02\\nDionaea...</td>\n",
       "    </tr>\n",
       "    <tr>\n",
       "      <th>195513</th>\n",
       "      <td>2021-07-31 23:50:02+00:00</td>\n",
       "      <td>HeliosCert</td>\n",
       "      <td>hash</td>\n",
       "      <td>bbc8bb388a16d39eb024f81b35819cabec5c1a35b5603c...</td>\n",
       "      <td>['malware']</td>\n",
       "      <td>1.421619e+18</td>\n",
       "      <td>Sample submitted\\n2021-07-31 23:50:02\\nDionaea...</td>\n",
       "    </tr>\n",
       "  </tbody>\n",
       "</table>\n",
       "<p>195514 rows × 7 columns</p>\n",
       "</div>\n",
       "      <button class=\"colab-df-convert\" onclick=\"convertToInteractive('df-09b0c4b0-4e67-4bd4-bc0d-87cec472cb16')\"\n",
       "              title=\"Convert this dataframe to an interactive table.\"\n",
       "              style=\"display:none;\">\n",
       "        \n",
       "  <svg xmlns=\"http://www.w3.org/2000/svg\" height=\"24px\"viewBox=\"0 0 24 24\"\n",
       "       width=\"24px\">\n",
       "    <path d=\"M0 0h24v24H0V0z\" fill=\"none\"/>\n",
       "    <path d=\"M18.56 5.44l.94 2.06.94-2.06 2.06-.94-2.06-.94-.94-2.06-.94 2.06-2.06.94zm-11 1L8.5 8.5l.94-2.06 2.06-.94-2.06-.94L8.5 2.5l-.94 2.06-2.06.94zm10 10l.94 2.06.94-2.06 2.06-.94-2.06-.94-.94-2.06-.94 2.06-2.06.94z\"/><path d=\"M17.41 7.96l-1.37-1.37c-.4-.4-.92-.59-1.43-.59-.52 0-1.04.2-1.43.59L10.3 9.45l-7.72 7.72c-.78.78-.78 2.05 0 2.83L4 21.41c.39.39.9.59 1.41.59.51 0 1.02-.2 1.41-.59l7.78-7.78 2.81-2.81c.8-.78.8-2.07 0-2.86zM5.41 20L4 18.59l7.72-7.72 1.47 1.35L5.41 20z\"/>\n",
       "  </svg>\n",
       "      </button>\n",
       "      \n",
       "  <style>\n",
       "    .colab-df-container {\n",
       "      display:flex;\n",
       "      flex-wrap:wrap;\n",
       "      gap: 12px;\n",
       "    }\n",
       "\n",
       "    .colab-df-convert {\n",
       "      background-color: #E8F0FE;\n",
       "      border: none;\n",
       "      border-radius: 50%;\n",
       "      cursor: pointer;\n",
       "      display: none;\n",
       "      fill: #1967D2;\n",
       "      height: 32px;\n",
       "      padding: 0 0 0 0;\n",
       "      width: 32px;\n",
       "    }\n",
       "\n",
       "    .colab-df-convert:hover {\n",
       "      background-color: #E2EBFA;\n",
       "      box-shadow: 0px 1px 2px rgba(60, 64, 67, 0.3), 0px 1px 3px 1px rgba(60, 64, 67, 0.15);\n",
       "      fill: #174EA6;\n",
       "    }\n",
       "\n",
       "    [theme=dark] .colab-df-convert {\n",
       "      background-color: #3B4455;\n",
       "      fill: #D2E3FC;\n",
       "    }\n",
       "\n",
       "    [theme=dark] .colab-df-convert:hover {\n",
       "      background-color: #434B5C;\n",
       "      box-shadow: 0px 1px 3px 1px rgba(0, 0, 0, 0.15);\n",
       "      filter: drop-shadow(0px 1px 2px rgba(0, 0, 0, 0.3));\n",
       "      fill: #FFFFFF;\n",
       "    }\n",
       "  </style>\n",
       "\n",
       "      <script>\n",
       "        const buttonEl =\n",
       "          document.querySelector('#df-09b0c4b0-4e67-4bd4-bc0d-87cec472cb16 button.colab-df-convert');\n",
       "        buttonEl.style.display =\n",
       "          google.colab.kernel.accessAllowed ? 'block' : 'none';\n",
       "\n",
       "        async function convertToInteractive(key) {\n",
       "          const element = document.querySelector('#df-09b0c4b0-4e67-4bd4-bc0d-87cec472cb16');\n",
       "          const dataTable =\n",
       "            await google.colab.kernel.invokeFunction('convertToInteractive',\n",
       "                                                     [key], {});\n",
       "          if (!dataTable) return;\n",
       "\n",
       "          const docLinkHtml = 'Like what you see? Visit the ' +\n",
       "            '<a target=\"_blank\" href=https://colab.research.google.com/notebooks/data_table.ipynb>data table notebook</a>'\n",
       "            + ' to learn more about interactive tables.';\n",
       "          element.innerHTML = '';\n",
       "          dataTable['output_type'] = 'display_data';\n",
       "          await google.colab.output.renderOutput(dataTable, element);\n",
       "          const docLink = document.createElement('div');\n",
       "          docLink.innerHTML = docLinkHtml;\n",
       "          element.appendChild(docLink);\n",
       "        }\n",
       "      </script>\n",
       "    </div>\n",
       "  </div>\n",
       "  "
      ],
      "text/plain": [
       "                       tweet_date        account ioc_type  \\\n",
       "0       2021-01-01 00:09:03+00:00  MalwarePatrol      url   \n",
       "1       2021-01-01 00:09:03+00:00  MalwarePatrol      url   \n",
       "2       2021-01-01 00:09:03+00:00  MalwarePatrol   domain   \n",
       "3       2021-01-01 00:09:03+00:00  MalwarePatrol   domain   \n",
       "4       2021-01-01 00:26:26+00:00     PhishStats      url   \n",
       "...                           ...            ...      ...   \n",
       "195509  2021-07-31 23:06:42+00:00       BethkazV      url   \n",
       "195510  2021-07-31 23:06:42+00:00       BethkazV   domain   \n",
       "195511  2021-07-31 23:37:40+00:00       ecarlesi   domain   \n",
       "195512  2021-07-31 23:50:02+00:00     HeliosCert       ip   \n",
       "195513  2021-07-31 23:50:02+00:00     HeliosCert     hash   \n",
       "\n",
       "                                                ioc_value  \\\n",
       "0                                http://dubioustimes.com/   \n",
       "1                                 https://t.co/m4mjDMt7az   \n",
       "2                                        dubioustimes.com   \n",
       "3                                                    t.co   \n",
       "4                     http://departmen-advant-page.my.id/   \n",
       "...                                                   ...   \n",
       "195509         https://www.esetphishingderby.com?score=65   \n",
       "195510                                               t.co   \n",
       "195511                                               t.co   \n",
       "195512                                       185.27.116.4   \n",
       "195513  bbc8bb388a16d39eb024f81b35819cabec5c1a35b5603c...   \n",
       "\n",
       "                 type_of_attack      tweet_id  \\\n",
       "0                  ['phishing']  1.344798e+18   \n",
       "1                  ['phishing']  1.344798e+18   \n",
       "2                  ['phishing']  1.344798e+18   \n",
       "3                  ['phishing']  1.344798e+18   \n",
       "4                  ['phishing']  1.344802e+18   \n",
       "...                         ...           ...   \n",
       "195509             ['phishing']  1.421608e+18   \n",
       "195510             ['phishing']  1.421608e+18   \n",
       "195511  ['opendir', 'phishing']  1.421616e+18   \n",
       "195512              ['malware']  1.421619e+18   \n",
       "195513              ['malware']  1.421619e+18   \n",
       "\n",
       "                                                     text  \n",
       "0       Another active #Phishing targeting Google Driv...  \n",
       "1       Another active #Phishing targeting Google Driv...  \n",
       "2       Another active #Phishing targeting Google Driv...  \n",
       "3       Another active #Phishing targeting Google Driv...  \n",
       "4       new #phishing at hXXp://departmen-advant-page[...  \n",
       "...                                                   ...  \n",
       "195509  Test your knowledge at https://t.co/yvg8zciMOZ...  \n",
       "195510  Test your knowledge at https://t.co/yvg8zciMOZ...  \n",
       "195511  Threat on hxxp://certiport[.]games/postale[.]z...  \n",
       "195512  Sample submitted\\n2021-07-31 23:50:02\\nDionaea...  \n",
       "195513  Sample submitted\\n2021-07-31 23:50:02\\nDionaea...  \n",
       "\n",
       "[195514 rows x 7 columns]"
      ]
     },
     "execution_count": 7,
     "metadata": {},
     "output_type": "execute_result"
    }
   ],
   "source": [
    "ioc_df"
   ]
  },
  {
   "cell_type": "code",
   "execution_count": null,
   "metadata": {
    "colab": {
     "base_uri": "https://localhost:8080/"
    },
    "executionInfo": {
     "elapsed": 4195,
     "status": "ok",
     "timestamp": 1657155300773,
     "user": {
      "displayName": "dincyr arikkat",
      "userId": "15274088586090887187"
     },
     "user_tz": -330
    },
    "id": "UgRpotViJLwq",
    "outputId": "42e3b0a8-20c2-40c2-b946-da33432afeb1"
   },
   "outputs": [
    {
     "name": "stdout",
     "output_type": "stream",
     "text": [
      "Success\n"
     ]
    }
   ],
   "source": [
    "ioc_df.to_csv(\"/content/drive/MyDrive/TIP/Twitter_IOC_Dataset.csv\",index=False)\n",
    "print(\"Success\")"
   ]
  },
  {
   "cell_type": "code",
   "execution_count": null,
   "metadata": {
    "colab": {
     "base_uri": "https://localhost:8080/",
     "height": 800
    },
    "executionInfo": {
     "elapsed": 498,
     "status": "ok",
     "timestamp": 1657071164873,
     "user": {
      "displayName": "dincyr arikkat",
      "userId": "15274088586090887187"
     },
     "user_tz": -330
    },
    "id": "MNwEPi4QI0Zu",
    "outputId": "48476a22-e3a4-47c6-ec3b-9ca858f5f0ec"
   },
   "outputs": [
    {
     "data": {
      "text/html": [
       "\n",
       "  <div id=\"df-0b29a01f-9cb6-4b3b-aaa3-9fe8bf2e23c7\">\n",
       "    <div class=\"colab-df-container\">\n",
       "      <div>\n",
       "<style scoped>\n",
       "    .dataframe tbody tr th:only-of-type {\n",
       "        vertical-align: middle;\n",
       "    }\n",
       "\n",
       "    .dataframe tbody tr th {\n",
       "        vertical-align: top;\n",
       "    }\n",
       "\n",
       "    .dataframe thead th {\n",
       "        text-align: right;\n",
       "    }\n",
       "</style>\n",
       "<table border=\"1\" class=\"dataframe\">\n",
       "  <thead>\n",
       "    <tr style=\"text-align: right;\">\n",
       "      <th></th>\n",
       "      <th>tweet_date</th>\n",
       "      <th>account</th>\n",
       "      <th>ioc_type</th>\n",
       "      <th>ioc_value</th>\n",
       "      <th>type_of_attack</th>\n",
       "      <th>tweet_id</th>\n",
       "      <th>text</th>\n",
       "    </tr>\n",
       "  </thead>\n",
       "  <tbody>\n",
       "    <tr>\n",
       "      <th>1</th>\n",
       "      <td>2021-07-31 23:52:04+00:00</td>\n",
       "      <td>cyberinform</td>\n",
       "      <td>url</td>\n",
       "      <td>https://bit.ly/3j7xo6w</td>\n",
       "      <td>['ransomware']</td>\n",
       "      <td>1421619701889785861</td>\n",
       "      <td>#Ransomware attacks in #2021 have already surp...</td>\n",
       "    </tr>\n",
       "    <tr>\n",
       "      <th>2</th>\n",
       "      <td>2021-07-31 23:50:21+00:00</td>\n",
       "      <td>PMProuk</td>\n",
       "      <td>url</td>\n",
       "      <td>https://www.canadianunderwriter.ca/insurance/a...</td>\n",
       "      <td>['cyberattack']</td>\n",
       "      <td>1421619269947822080</td>\n",
       "      <td>As cyberattacks skyrocket, Canada needs to wor...</td>\n",
       "    </tr>\n",
       "    <tr>\n",
       "      <th>3</th>\n",
       "      <td>2021-07-31 23:50:21+00:00</td>\n",
       "      <td>PMProuk</td>\n",
       "      <td>domain</td>\n",
       "      <td>canadianunderwriter</td>\n",
       "      <td>['cyberattack']</td>\n",
       "      <td>1421619269947822080</td>\n",
       "      <td>As cyberattacks skyrocket, Canada needs to wor...</td>\n",
       "    </tr>\n",
       "    <tr>\n",
       "      <th>4</th>\n",
       "      <td>2021-07-31 23:50:02+00:00</td>\n",
       "      <td>HeliosCert</td>\n",
       "      <td>ip</td>\n",
       "      <td>185.27.116.4</td>\n",
       "      <td>['malware']</td>\n",
       "      <td>1421619193884073986</td>\n",
       "      <td>Sample submitted\\n2021-07-31 23:50:02\\nDionaea...</td>\n",
       "    </tr>\n",
       "    <tr>\n",
       "      <th>5</th>\n",
       "      <td>2021-07-31 23:50:02+00:00</td>\n",
       "      <td>HeliosCert</td>\n",
       "      <td>hash</td>\n",
       "      <td>bbc8bb388a16d39eb024f81b35819cabec5c1a35b5603c...</td>\n",
       "      <td>['malware']</td>\n",
       "      <td>1421619193884073986</td>\n",
       "      <td>Sample submitted\\n2021-07-31 23:50:02\\nDionaea...</td>\n",
       "    </tr>\n",
       "    <tr>\n",
       "      <th>...</th>\n",
       "      <td>...</td>\n",
       "      <td>...</td>\n",
       "      <td>...</td>\n",
       "      <td>...</td>\n",
       "      <td>...</td>\n",
       "      <td>...</td>\n",
       "      <td>...</td>\n",
       "    </tr>\n",
       "    <tr>\n",
       "      <th>328074</th>\n",
       "      <td>2021-01-01 00:06:19+00:00</td>\n",
       "      <td>SolitaryBuffalo</td>\n",
       "      <td>url</td>\n",
       "      <td>https://bit.ly/2KQ0ev7</td>\n",
       "      <td>['ransomware']</td>\n",
       "      <td>1344797062731337728</td>\n",
       "      <td>Telehealth poses big #cybersecurity dangers, H...</td>\n",
       "    </tr>\n",
       "    <tr>\n",
       "      <th>328075</th>\n",
       "      <td>2021-01-01 00:06:06+00:00</td>\n",
       "      <td>An0n_Truth</td>\n",
       "      <td>url</td>\n",
       "      <td>https://paper.li/An0n_Truth/1357567312?edition...</td>\n",
       "      <td>['malware']</td>\n",
       "      <td>1344797006288584705</td>\n",
       "      <td>The latest The An0nym0us Truth! https://t.co/X...</td>\n",
       "    </tr>\n",
       "    <tr>\n",
       "      <th>328076</th>\n",
       "      <td>2021-01-01 00:03:25+00:00</td>\n",
       "      <td>MoustachedTrex</td>\n",
       "      <td>url</td>\n",
       "      <td>https://pastebin.com/Wdgiq6Mm</td>\n",
       "      <td>[]</td>\n",
       "      <td>1344796334268805125</td>\n",
       "      <td>https://t.co/L4NQPYJ8K7 A list of everything I...</td>\n",
       "    </tr>\n",
       "    <tr>\n",
       "      <th>328077</th>\n",
       "      <td>2021-01-01 00:00:26+00:00</td>\n",
       "      <td>Paula_Piccard</td>\n",
       "      <td>url</td>\n",
       "      <td>https://zd.net/2WXvcDR</td>\n",
       "      <td>['malware', 'phishing']</td>\n",
       "      <td>1344795582053937153</td>\n",
       "      <td>SolarWinds hackers accessed Microsoft source c...</td>\n",
       "    </tr>\n",
       "    <tr>\n",
       "      <th>328078</th>\n",
       "      <td>2021-01-01 00:00:02+00:00</td>\n",
       "      <td>ItsTrigger</td>\n",
       "      <td>url</td>\n",
       "      <td>https://pastebin.com/raw/yS4QMNxk</td>\n",
       "      <td>[]</td>\n",
       "      <td>1344795482804117504</td>\n",
       "      <td>2020 was rough for us all. I don't usually wri...</td>\n",
       "    </tr>\n",
       "  </tbody>\n",
       "</table>\n",
       "<p>328078 rows × 7 columns</p>\n",
       "</div>\n",
       "      <button class=\"colab-df-convert\" onclick=\"convertToInteractive('df-0b29a01f-9cb6-4b3b-aaa3-9fe8bf2e23c7')\"\n",
       "              title=\"Convert this dataframe to an interactive table.\"\n",
       "              style=\"display:none;\">\n",
       "        \n",
       "  <svg xmlns=\"http://www.w3.org/2000/svg\" height=\"24px\"viewBox=\"0 0 24 24\"\n",
       "       width=\"24px\">\n",
       "    <path d=\"M0 0h24v24H0V0z\" fill=\"none\"/>\n",
       "    <path d=\"M18.56 5.44l.94 2.06.94-2.06 2.06-.94-2.06-.94-.94-2.06-.94 2.06-2.06.94zm-11 1L8.5 8.5l.94-2.06 2.06-.94-2.06-.94L8.5 2.5l-.94 2.06-2.06.94zm10 10l.94 2.06.94-2.06 2.06-.94-2.06-.94-.94-2.06-.94 2.06-2.06.94z\"/><path d=\"M17.41 7.96l-1.37-1.37c-.4-.4-.92-.59-1.43-.59-.52 0-1.04.2-1.43.59L10.3 9.45l-7.72 7.72c-.78.78-.78 2.05 0 2.83L4 21.41c.39.39.9.59 1.41.59.51 0 1.02-.2 1.41-.59l7.78-7.78 2.81-2.81c.8-.78.8-2.07 0-2.86zM5.41 20L4 18.59l7.72-7.72 1.47 1.35L5.41 20z\"/>\n",
       "  </svg>\n",
       "      </button>\n",
       "      \n",
       "  <style>\n",
       "    .colab-df-container {\n",
       "      display:flex;\n",
       "      flex-wrap:wrap;\n",
       "      gap: 12px;\n",
       "    }\n",
       "\n",
       "    .colab-df-convert {\n",
       "      background-color: #E8F0FE;\n",
       "      border: none;\n",
       "      border-radius: 50%;\n",
       "      cursor: pointer;\n",
       "      display: none;\n",
       "      fill: #1967D2;\n",
       "      height: 32px;\n",
       "      padding: 0 0 0 0;\n",
       "      width: 32px;\n",
       "    }\n",
       "\n",
       "    .colab-df-convert:hover {\n",
       "      background-color: #E2EBFA;\n",
       "      box-shadow: 0px 1px 2px rgba(60, 64, 67, 0.3), 0px 1px 3px 1px rgba(60, 64, 67, 0.15);\n",
       "      fill: #174EA6;\n",
       "    }\n",
       "\n",
       "    [theme=dark] .colab-df-convert {\n",
       "      background-color: #3B4455;\n",
       "      fill: #D2E3FC;\n",
       "    }\n",
       "\n",
       "    [theme=dark] .colab-df-convert:hover {\n",
       "      background-color: #434B5C;\n",
       "      box-shadow: 0px 1px 3px 1px rgba(0, 0, 0, 0.15);\n",
       "      filter: drop-shadow(0px 1px 2px rgba(0, 0, 0, 0.3));\n",
       "      fill: #FFFFFF;\n",
       "    }\n",
       "  </style>\n",
       "\n",
       "      <script>\n",
       "        const buttonEl =\n",
       "          document.querySelector('#df-0b29a01f-9cb6-4b3b-aaa3-9fe8bf2e23c7 button.colab-df-convert');\n",
       "        buttonEl.style.display =\n",
       "          google.colab.kernel.accessAllowed ? 'block' : 'none';\n",
       "\n",
       "        async function convertToInteractive(key) {\n",
       "          const element = document.querySelector('#df-0b29a01f-9cb6-4b3b-aaa3-9fe8bf2e23c7');\n",
       "          const dataTable =\n",
       "            await google.colab.kernel.invokeFunction('convertToInteractive',\n",
       "                                                     [key], {});\n",
       "          if (!dataTable) return;\n",
       "\n",
       "          const docLinkHtml = 'Like what you see? Visit the ' +\n",
       "            '<a target=\"_blank\" href=https://colab.research.google.com/notebooks/data_table.ipynb>data table notebook</a>'\n",
       "            + ' to learn more about interactive tables.';\n",
       "          element.innerHTML = '';\n",
       "          dataTable['output_type'] = 'display_data';\n",
       "          await google.colab.output.renderOutput(dataTable, element);\n",
       "          const docLink = document.createElement('div');\n",
       "          docLink.innerHTML = docLinkHtml;\n",
       "          element.appendChild(docLink);\n",
       "        }\n",
       "      </script>\n",
       "    </div>\n",
       "  </div>\n",
       "  "
      ],
      "text/plain": [
       "                       tweet_date          account ioc_type  \\\n",
       "1       2021-07-31 23:52:04+00:00      cyberinform      url   \n",
       "2       2021-07-31 23:50:21+00:00          PMProuk      url   \n",
       "3       2021-07-31 23:50:21+00:00          PMProuk   domain   \n",
       "4       2021-07-31 23:50:02+00:00       HeliosCert       ip   \n",
       "5       2021-07-31 23:50:02+00:00       HeliosCert     hash   \n",
       "...                           ...              ...      ...   \n",
       "328074  2021-01-01 00:06:19+00:00  SolitaryBuffalo      url   \n",
       "328075  2021-01-01 00:06:06+00:00       An0n_Truth      url   \n",
       "328076  2021-01-01 00:03:25+00:00   MoustachedTrex      url   \n",
       "328077  2021-01-01 00:00:26+00:00    Paula_Piccard      url   \n",
       "328078  2021-01-01 00:00:02+00:00       ItsTrigger      url   \n",
       "\n",
       "                                                ioc_value  \\\n",
       "1                                  https://bit.ly/3j7xo6w   \n",
       "2       https://www.canadianunderwriter.ca/insurance/a...   \n",
       "3                                     canadianunderwriter   \n",
       "4                                            185.27.116.4   \n",
       "5       bbc8bb388a16d39eb024f81b35819cabec5c1a35b5603c...   \n",
       "...                                                   ...   \n",
       "328074                             https://bit.ly/2KQ0ev7   \n",
       "328075  https://paper.li/An0n_Truth/1357567312?edition...   \n",
       "328076                      https://pastebin.com/Wdgiq6Mm   \n",
       "328077                             https://zd.net/2WXvcDR   \n",
       "328078                  https://pastebin.com/raw/yS4QMNxk   \n",
       "\n",
       "                 type_of_attack             tweet_id  \\\n",
       "1                ['ransomware']  1421619701889785861   \n",
       "2               ['cyberattack']  1421619269947822080   \n",
       "3               ['cyberattack']  1421619269947822080   \n",
       "4                   ['malware']  1421619193884073986   \n",
       "5                   ['malware']  1421619193884073986   \n",
       "...                         ...                  ...   \n",
       "328074           ['ransomware']  1344797062731337728   \n",
       "328075              ['malware']  1344797006288584705   \n",
       "328076                       []  1344796334268805125   \n",
       "328077  ['malware', 'phishing']  1344795582053937153   \n",
       "328078                       []  1344795482804117504   \n",
       "\n",
       "                                                     text  \n",
       "1       #Ransomware attacks in #2021 have already surp...  \n",
       "2       As cyberattacks skyrocket, Canada needs to wor...  \n",
       "3       As cyberattacks skyrocket, Canada needs to wor...  \n",
       "4       Sample submitted\\n2021-07-31 23:50:02\\nDionaea...  \n",
       "5       Sample submitted\\n2021-07-31 23:50:02\\nDionaea...  \n",
       "...                                                   ...  \n",
       "328074  Telehealth poses big #cybersecurity dangers, H...  \n",
       "328075  The latest The An0nym0us Truth! https://t.co/X...  \n",
       "328076  https://t.co/L4NQPYJ8K7 A list of everything I...  \n",
       "328077  SolarWinds hackers accessed Microsoft source c...  \n",
       "328078  2020 was rough for us all. I don't usually wri...  \n",
       "\n",
       "[328078 rows x 7 columns]"
      ]
     },
     "execution_count": 13,
     "metadata": {},
     "output_type": "execute_result"
    }
   ],
   "source": [
    "df"
   ]
  },
  {
   "cell_type": "code",
   "execution_count": null,
   "metadata": {
    "id": "NLpqElZBBXXh"
   },
   "outputs": [],
   "source": [
    "ioc_df=pd.read_csv(\"/content/drive/MyDrive/IOC Dataset/Final_IOC.csv\",lineterminator='\\n')"
   ]
  },
  {
   "cell_type": "code",
   "execution_count": null,
   "metadata": {
    "id": "a4uJYtNRDqL7"
   },
   "outputs": [],
   "source": [
    "ioc_df"
   ]
  },
  {
   "cell_type": "code",
   "execution_count": null,
   "metadata": {
    "colab": {
     "base_uri": "https://localhost:8080/"
    },
    "executionInfo": {
     "elapsed": 385,
     "status": "ok",
     "timestamp": 1668313100565,
     "user": {
      "displayName": "dincyr arikkat",
      "userId": "15274088586090887187"
     },
     "user_tz": -330
    },
    "id": "c0FPYXntpaAg",
    "outputId": "7fadae62-a8b7-4bee-8e85-e2badb5705e0"
   },
   "outputs": [
    {
     "data": {
      "text/plain": [
       "195514"
      ]
     },
     "execution_count": 8,
     "metadata": {},
     "output_type": "execute_result"
    }
   ],
   "source": [
    "len(ioc_df)"
   ]
  },
  {
   "cell_type": "code",
   "execution_count": null,
   "metadata": {
    "id": "K5lBlUTooLuS"
   },
   "outputs": [],
   "source": [
    "ioc_df.rename( columns={'Unnamed: 0':'index'}, inplace=True )"
   ]
  },
  {
   "cell_type": "code",
   "execution_count": null,
   "metadata": {
    "id": "Xi-lvtyOpMrf"
   },
   "outputs": [],
   "source": [
    "ioc_df = ioc_df.dropna(axis=0, subset=['index'])"
   ]
  },
  {
   "cell_type": "code",
   "execution_count": null,
   "metadata": {
    "colab": {
     "base_uri": "https://localhost:8080/"
    },
    "executionInfo": {
     "elapsed": 3,
     "status": "ok",
     "timestamp": 1657018082004,
     "user": {
      "displayName": "dincyr arikkat",
      "userId": "15274088586090887187"
     },
     "user_tz": -330
    },
    "id": "tltySuGwcYJo",
    "outputId": "7a7201cf-a495-460d-ab19-fa9f01916b19"
   },
   "outputs": [
    {
     "data": {
      "text/plain": [
       "656035"
      ]
     },
     "execution_count": 8,
     "metadata": {},
     "output_type": "execute_result"
    }
   ],
   "source": [
    "len(ioc_df)"
   ]
  },
  {
   "cell_type": "code",
   "execution_count": null,
   "metadata": {
    "id": "T8KjCqaocNHY"
   },
   "outputs": [],
   "source": [
    "ioc_df.drop(ioc_df.index[ioc_df[\"index\"].apply(lambda x: not (str(x).strip().isnumeric()))], axis=0, inplace=True)"
   ]
  },
  {
   "cell_type": "code",
   "execution_count": null,
   "metadata": {
    "colab": {
     "base_uri": "https://localhost:8080/"
    },
    "executionInfo": {
     "elapsed": 369,
     "status": "ok",
     "timestamp": 1657018087274,
     "user": {
      "displayName": "dincyr arikkat",
      "userId": "15274088586090887187"
     },
     "user_tz": -330
    },
    "id": "vG_JePxHc2QG",
    "outputId": "ba697965-7e5c-4bbc-bf9e-1dd4141464d0"
   },
   "outputs": [
    {
     "data": {
      "text/plain": [
       "656035"
      ]
     },
     "execution_count": 10,
     "metadata": {},
     "output_type": "execute_result"
    }
   ],
   "source": [
    "len(ioc_df)"
   ]
  },
  {
   "cell_type": "code",
   "execution_count": null,
   "metadata": {
    "id": "40istn6CxkAS"
   },
   "outputs": [],
   "source": [
    "# Remove column name 'A'\n",
    "ioc_df.drop(['index'], axis = 1)"
   ]
  },
  {
   "cell_type": "code",
   "execution_count": null,
   "metadata": {
    "colab": {
     "base_uri": "https://localhost:8080/"
    },
    "executionInfo": {
     "elapsed": 340,
     "status": "ok",
     "timestamp": 1657018098353,
     "user": {
      "displayName": "dincyr arikkat",
      "userId": "15274088586090887187"
     },
     "user_tz": -330
    },
    "id": "Wzcg74S_Brag",
    "outputId": "c530e5e1-e3a9-45bb-99be-c9f36fe563df"
   },
   "outputs": [
    {
     "data": {
      "text/plain": [
       "656035"
      ]
     },
     "execution_count": 12,
     "metadata": {},
     "output_type": "execute_result"
    }
   ],
   "source": [
    "len(ioc_df)"
   ]
  },
  {
   "cell_type": "code",
   "execution_count": null,
   "metadata": {
    "id": "kpUr6FwLx9W-"
   },
   "outputs": [],
   "source": [
    "# Using DataFrame.drop_duplicates() to keep first duplicate row\n",
    "ioc_df = ioc_df.drop_duplicates(keep='first')"
   ]
  },
  {
   "cell_type": "code",
   "execution_count": null,
   "metadata": {
    "colab": {
     "base_uri": "https://localhost:8080/"
    },
    "executionInfo": {
     "elapsed": 2,
     "status": "ok",
     "timestamp": 1657018105739,
     "user": {
      "displayName": "dincyr arikkat",
      "userId": "15274088586090887187"
     },
     "user_tz": -330
    },
    "id": "xUqY6YhmyRN4",
    "outputId": "bf0bf513-de87-4868-d695-4965524686a2"
   },
   "outputs": [
    {
     "data": {
      "text/plain": [
       "656035"
      ]
     },
     "execution_count": 14,
     "metadata": {},
     "output_type": "execute_result"
    }
   ],
   "source": [
    "len(ioc_df)"
   ]
  },
  {
   "cell_type": "code",
   "execution_count": null,
   "metadata": {
    "colab": {
     "base_uri": "https://localhost:8080/",
     "height": 696
    },
    "executionInfo": {
     "elapsed": 551,
     "status": "ok",
     "timestamp": 1668313207955,
     "user": {
      "displayName": "dincyr arikkat",
      "userId": "15274088586090887187"
     },
     "user_tz": -330
    },
    "id": "bbfCMO5RBxdv",
    "outputId": "6b281a0f-bdf7-45ef-80ff-451c4cacf350"
   },
   "outputs": [
    {
     "data": {
      "text/html": [
       "\n",
       "  <div id=\"df-b443d17c-b47d-430a-ae80-631bb0900ccb\">\n",
       "    <div class=\"colab-df-container\">\n",
       "      <div>\n",
       "<style scoped>\n",
       "    .dataframe tbody tr th:only-of-type {\n",
       "        vertical-align: middle;\n",
       "    }\n",
       "\n",
       "    .dataframe tbody tr th {\n",
       "        vertical-align: top;\n",
       "    }\n",
       "\n",
       "    .dataframe thead th {\n",
       "        text-align: right;\n",
       "    }\n",
       "</style>\n",
       "<table border=\"1\" class=\"dataframe\">\n",
       "  <thead>\n",
       "    <tr style=\"text-align: right;\">\n",
       "      <th></th>\n",
       "      <th>tweet_date</th>\n",
       "      <th>account</th>\n",
       "      <th>ioc_type</th>\n",
       "      <th>ioc_value</th>\n",
       "      <th>type_of_attack</th>\n",
       "      <th>tweet_id</th>\n",
       "      <th>text</th>\n",
       "    </tr>\n",
       "  </thead>\n",
       "  <tbody>\n",
       "    <tr>\n",
       "      <th>181118</th>\n",
       "      <td>2021-07-16 11:23:21+00:00</td>\n",
       "      <td>cyber_against</td>\n",
       "      <td>email</td>\n",
       "      <td>-@bhakti.vandana.nikam</td>\n",
       "      <td>['malware', 'phishing', 'cyberattack']</td>\n",
       "      <td>1.415995e+18</td>\n",
       "      <td>Website Spoofing/ URL Spoofing\\n\\nReference - ...</td>\n",
       "    </tr>\n",
       "    <tr>\n",
       "      <th>181124</th>\n",
       "      <td>2021-07-16 11:24:35+00:00</td>\n",
       "      <td>cyber_against</td>\n",
       "      <td>email</td>\n",
       "      <td>-@bhakti.vandana.nikam</td>\n",
       "      <td>['malware', 'phishing', 'cyberattack']</td>\n",
       "      <td>1.415996e+18</td>\n",
       "      <td>Website Spoofing/ URL Spoofing\\n\\nReference - ...</td>\n",
       "    </tr>\n",
       "    <tr>\n",
       "      <th>50625</th>\n",
       "      <td>2021-02-19 00:26:35+00:00</td>\n",
       "      <td>romonlyht</td>\n",
       "      <td>ip</td>\n",
       "      <td>0.0.0.0</td>\n",
       "      <td>['phishing']</td>\n",
       "      <td>1.362559e+18</td>\n",
       "      <td>https://t.co/7zItzT1PxQ\\n\\nNo.2 (site is down)...</td>\n",
       "    </tr>\n",
       "    <tr>\n",
       "      <th>145385</th>\n",
       "      <td>2021-05-29 04:37:29+00:00</td>\n",
       "      <td>romonlyht</td>\n",
       "      <td>ip</td>\n",
       "      <td>0.0.0.0</td>\n",
       "      <td>['phishing']</td>\n",
       "      <td>1.398499e+18</td>\n",
       "      <td>https://t.co/qM5DMnunvi\\n\\nNo.4 (site is close...</td>\n",
       "    </tr>\n",
       "    <tr>\n",
       "      <th>150408</th>\n",
       "      <td>2021-06-05 04:22:10+00:00</td>\n",
       "      <td>romonlyht</td>\n",
       "      <td>ip</td>\n",
       "      <td>0.0.0.0</td>\n",
       "      <td>['phishing']</td>\n",
       "      <td>1.401032e+18</td>\n",
       "      <td>https://t.co/R8Sqb0bP0Q\\n\\nNo.7 (site is close...</td>\n",
       "    </tr>\n",
       "    <tr>\n",
       "      <th>...</th>\n",
       "      <td>...</td>\n",
       "      <td>...</td>\n",
       "      <td>...</td>\n",
       "      <td>...</td>\n",
       "      <td>...</td>\n",
       "      <td>...</td>\n",
       "      <td>...</td>\n",
       "    </tr>\n",
       "    <tr>\n",
       "      <th>189180</th>\n",
       "      <td>2021-07-26 07:06:49+00:00</td>\n",
       "      <td>KesaGataMe0</td>\n",
       "      <td>domain</td>\n",
       "      <td>zv477b7p.cn</td>\n",
       "      <td>['phishing']</td>\n",
       "      <td>1.419555e+18</td>\n",
       "      <td>#Phishing #SMBC #SMCC #三井住友カード \\n\\nIP: 14.63.1...</td>\n",
       "    </tr>\n",
       "    <tr>\n",
       "      <th>189182</th>\n",
       "      <td>2021-07-26 07:06:49+00:00</td>\n",
       "      <td>KesaGataMe0</td>\n",
       "      <td>domain</td>\n",
       "      <td>zv477b7p.cn</td>\n",
       "      <td>['phishing']</td>\n",
       "      <td>1.419555e+18</td>\n",
       "      <td>#Phishing #SMBC #SMCC #三井住友カード \\n\\nIP: 14.63.1...</td>\n",
       "    </tr>\n",
       "    <tr>\n",
       "      <th>95278</th>\n",
       "      <td>2021-04-07 01:42:58+00:00</td>\n",
       "      <td>romonlyht</td>\n",
       "      <td>domain</td>\n",
       "      <td>zxvcadsedfs432.xyz</td>\n",
       "      <td>['phishing']</td>\n",
       "      <td>1.379611e+18</td>\n",
       "      <td>redirect\\n\\nhxxps://zxvcadsedfs432.xyz/signin/...</td>\n",
       "    </tr>\n",
       "    <tr>\n",
       "      <th>101771</th>\n",
       "      <td>2021-04-12 16:49:39+00:00</td>\n",
       "      <td>laceworklabs</td>\n",
       "      <td>domain</td>\n",
       "      <td>zzhreceive.anondn</td>\n",
       "      <td>['malware', 'botnet']</td>\n",
       "      <td>1.381651e+18</td>\n",
       "      <td>TeamTNT Cryptojacking loaders w/ active victim...</td>\n",
       "    </tr>\n",
       "    <tr>\n",
       "      <th>170930</th>\n",
       "      <td>2021-07-05 06:09:43+00:00</td>\n",
       "      <td>ActorExpose</td>\n",
       "      <td>email</td>\n",
       "      <td>zzp@hotmail.com</td>\n",
       "      <td>[]</td>\n",
       "      <td>1.411930e+18</td>\n",
       "      <td>Defacement Incident \"haven't recovered for an ...</td>\n",
       "    </tr>\n",
       "  </tbody>\n",
       "</table>\n",
       "<p>195514 rows × 7 columns</p>\n",
       "</div>\n",
       "      <button class=\"colab-df-convert\" onclick=\"convertToInteractive('df-b443d17c-b47d-430a-ae80-631bb0900ccb')\"\n",
       "              title=\"Convert this dataframe to an interactive table.\"\n",
       "              style=\"display:none;\">\n",
       "        \n",
       "  <svg xmlns=\"http://www.w3.org/2000/svg\" height=\"24px\"viewBox=\"0 0 24 24\"\n",
       "       width=\"24px\">\n",
       "    <path d=\"M0 0h24v24H0V0z\" fill=\"none\"/>\n",
       "    <path d=\"M18.56 5.44l.94 2.06.94-2.06 2.06-.94-2.06-.94-.94-2.06-.94 2.06-2.06.94zm-11 1L8.5 8.5l.94-2.06 2.06-.94-2.06-.94L8.5 2.5l-.94 2.06-2.06.94zm10 10l.94 2.06.94-2.06 2.06-.94-2.06-.94-.94-2.06-.94 2.06-2.06.94z\"/><path d=\"M17.41 7.96l-1.37-1.37c-.4-.4-.92-.59-1.43-.59-.52 0-1.04.2-1.43.59L10.3 9.45l-7.72 7.72c-.78.78-.78 2.05 0 2.83L4 21.41c.39.39.9.59 1.41.59.51 0 1.02-.2 1.41-.59l7.78-7.78 2.81-2.81c.8-.78.8-2.07 0-2.86zM5.41 20L4 18.59l7.72-7.72 1.47 1.35L5.41 20z\"/>\n",
       "  </svg>\n",
       "      </button>\n",
       "      \n",
       "  <style>\n",
       "    .colab-df-container {\n",
       "      display:flex;\n",
       "      flex-wrap:wrap;\n",
       "      gap: 12px;\n",
       "    }\n",
       "\n",
       "    .colab-df-convert {\n",
       "      background-color: #E8F0FE;\n",
       "      border: none;\n",
       "      border-radius: 50%;\n",
       "      cursor: pointer;\n",
       "      display: none;\n",
       "      fill: #1967D2;\n",
       "      height: 32px;\n",
       "      padding: 0 0 0 0;\n",
       "      width: 32px;\n",
       "    }\n",
       "\n",
       "    .colab-df-convert:hover {\n",
       "      background-color: #E2EBFA;\n",
       "      box-shadow: 0px 1px 2px rgba(60, 64, 67, 0.3), 0px 1px 3px 1px rgba(60, 64, 67, 0.15);\n",
       "      fill: #174EA6;\n",
       "    }\n",
       "\n",
       "    [theme=dark] .colab-df-convert {\n",
       "      background-color: #3B4455;\n",
       "      fill: #D2E3FC;\n",
       "    }\n",
       "\n",
       "    [theme=dark] .colab-df-convert:hover {\n",
       "      background-color: #434B5C;\n",
       "      box-shadow: 0px 1px 3px 1px rgba(0, 0, 0, 0.15);\n",
       "      filter: drop-shadow(0px 1px 2px rgba(0, 0, 0, 0.3));\n",
       "      fill: #FFFFFF;\n",
       "    }\n",
       "  </style>\n",
       "\n",
       "      <script>\n",
       "        const buttonEl =\n",
       "          document.querySelector('#df-b443d17c-b47d-430a-ae80-631bb0900ccb button.colab-df-convert');\n",
       "        buttonEl.style.display =\n",
       "          google.colab.kernel.accessAllowed ? 'block' : 'none';\n",
       "\n",
       "        async function convertToInteractive(key) {\n",
       "          const element = document.querySelector('#df-b443d17c-b47d-430a-ae80-631bb0900ccb');\n",
       "          const dataTable =\n",
       "            await google.colab.kernel.invokeFunction('convertToInteractive',\n",
       "                                                     [key], {});\n",
       "          if (!dataTable) return;\n",
       "\n",
       "          const docLinkHtml = 'Like what you see? Visit the ' +\n",
       "            '<a target=\"_blank\" href=https://colab.research.google.com/notebooks/data_table.ipynb>data table notebook</a>'\n",
       "            + ' to learn more about interactive tables.';\n",
       "          element.innerHTML = '';\n",
       "          dataTable['output_type'] = 'display_data';\n",
       "          await google.colab.output.renderOutput(dataTable, element);\n",
       "          const docLink = document.createElement('div');\n",
       "          docLink.innerHTML = docLinkHtml;\n",
       "          element.appendChild(docLink);\n",
       "        }\n",
       "      </script>\n",
       "    </div>\n",
       "  </div>\n",
       "  "
      ],
      "text/plain": [
       "                       tweet_date        account ioc_type  \\\n",
       "181118  2021-07-16 11:23:21+00:00  cyber_against    email   \n",
       "181124  2021-07-16 11:24:35+00:00  cyber_against    email   \n",
       "50625   2021-02-19 00:26:35+00:00      romonlyht       ip   \n",
       "145385  2021-05-29 04:37:29+00:00      romonlyht       ip   \n",
       "150408  2021-06-05 04:22:10+00:00      romonlyht       ip   \n",
       "...                           ...            ...      ...   \n",
       "189180  2021-07-26 07:06:49+00:00    KesaGataMe0   domain   \n",
       "189182  2021-07-26 07:06:49+00:00    KesaGataMe0   domain   \n",
       "95278   2021-04-07 01:42:58+00:00      romonlyht   domain   \n",
       "101771  2021-04-12 16:49:39+00:00   laceworklabs   domain   \n",
       "170930  2021-07-05 06:09:43+00:00    ActorExpose    email   \n",
       "\n",
       "                     ioc_value                          type_of_attack  \\\n",
       "181118  -@bhakti.vandana.nikam  ['malware', 'phishing', 'cyberattack']   \n",
       "181124  -@bhakti.vandana.nikam  ['malware', 'phishing', 'cyberattack']   \n",
       "50625                  0.0.0.0                            ['phishing']   \n",
       "145385                 0.0.0.0                            ['phishing']   \n",
       "150408                 0.0.0.0                            ['phishing']   \n",
       "...                        ...                                     ...   \n",
       "189180             zv477b7p.cn                            ['phishing']   \n",
       "189182             zv477b7p.cn                            ['phishing']   \n",
       "95278       zxvcadsedfs432.xyz                            ['phishing']   \n",
       "101771       zzhreceive.anondn                   ['malware', 'botnet']   \n",
       "170930         zzp@hotmail.com                                      []   \n",
       "\n",
       "            tweet_id                                               text  \n",
       "181118  1.415995e+18  Website Spoofing/ URL Spoofing\\n\\nReference - ...  \n",
       "181124  1.415996e+18  Website Spoofing/ URL Spoofing\\n\\nReference - ...  \n",
       "50625   1.362559e+18  https://t.co/7zItzT1PxQ\\n\\nNo.2 (site is down)...  \n",
       "145385  1.398499e+18  https://t.co/qM5DMnunvi\\n\\nNo.4 (site is close...  \n",
       "150408  1.401032e+18  https://t.co/R8Sqb0bP0Q\\n\\nNo.7 (site is close...  \n",
       "...              ...                                                ...  \n",
       "189180  1.419555e+18  #Phishing #SMBC #SMCC #三井住友カード \\n\\nIP: 14.63.1...  \n",
       "189182  1.419555e+18  #Phishing #SMBC #SMCC #三井住友カード \\n\\nIP: 14.63.1...  \n",
       "95278   1.379611e+18  redirect\\n\\nhxxps://zxvcadsedfs432.xyz/signin/...  \n",
       "101771  1.381651e+18  TeamTNT Cryptojacking loaders w/ active victim...  \n",
       "170930  1.411930e+18  Defacement Incident \"haven't recovered for an ...  \n",
       "\n",
       "[195514 rows x 7 columns]"
      ]
     },
     "execution_count": 10,
     "metadata": {},
     "output_type": "execute_result"
    }
   ],
   "source": [
    "ioc_df.sort_values(['ioc_value','tweet_date'])"
   ]
  },
  {
   "cell_type": "code",
   "execution_count": null,
   "metadata": {
    "colab": {
     "base_uri": "https://localhost:8080/"
    },
    "executionInfo": {
     "elapsed": 331,
     "status": "ok",
     "timestamp": 1657018156715,
     "user": {
      "displayName": "dincyr arikkat",
      "userId": "15274088586090887187"
     },
     "user_tz": -330
    },
    "id": "iV_k2IsjsLB3",
    "outputId": "8959c924-87b0-4bd7-cb34-2cb70bf2e368"
   },
   "outputs": [
    {
     "data": {
      "text/plain": [
       "656035"
      ]
     },
     "execution_count": 17,
     "metadata": {},
     "output_type": "execute_result"
    }
   ],
   "source": [
    "len(ioc_df)"
   ]
  },
  {
   "cell_type": "code",
   "execution_count": null,
   "metadata": {
    "id": "2y9zTtSYsOWE"
   },
   "outputs": [],
   "source": [
    "# dropping ALL duplicate values\n",
    "ioc_df.drop_duplicates(subset =\"ioc_value\",\n",
    "                     keep = 'first', inplace = True)"
   ]
  },
  {
   "cell_type": "code",
   "execution_count": null,
   "metadata": {
    "colab": {
     "base_uri": "https://localhost:8080/"
    },
    "executionInfo": {
     "elapsed": 556,
     "status": "ok",
     "timestamp": 1668313230845,
     "user": {
      "displayName": "dincyr arikkat",
      "userId": "15274088586090887187"
     },
     "user_tz": -330
    },
    "id": "YzyBAsL6-y_5",
    "outputId": "ed7dfe42-7933-4511-d763-6bf3e043c1ad"
   },
   "outputs": [
    {
     "data": {
      "text/plain": [
       "93794"
      ]
     },
     "execution_count": 12,
     "metadata": {},
     "output_type": "execute_result"
    }
   ],
   "source": [
    "len(ioc_df)"
   ]
  },
  {
   "cell_type": "code",
   "execution_count": null,
   "metadata": {
    "colab": {
     "base_uri": "https://localhost:8080/",
     "height": 815
    },
    "executionInfo": {
     "elapsed": 374,
     "status": "ok",
     "timestamp": 1668313255263,
     "user": {
      "displayName": "dincyr arikkat",
      "userId": "15274088586090887187"
     },
     "user_tz": -330
    },
    "id": "aL96ANhSgV_P",
    "outputId": "3cf4ba24-efdf-4511-b12c-241f95b61f97"
   },
   "outputs": [
    {
     "data": {
      "text/html": [
       "\n",
       "  <div id=\"df-32bbfd1b-3310-4251-82d6-5d635b377f1f\">\n",
       "    <div class=\"colab-df-container\">\n",
       "      <div>\n",
       "<style scoped>\n",
       "    .dataframe tbody tr th:only-of-type {\n",
       "        vertical-align: middle;\n",
       "    }\n",
       "\n",
       "    .dataframe tbody tr th {\n",
       "        vertical-align: top;\n",
       "    }\n",
       "\n",
       "    .dataframe thead th {\n",
       "        text-align: right;\n",
       "    }\n",
       "</style>\n",
       "<table border=\"1\" class=\"dataframe\">\n",
       "  <thead>\n",
       "    <tr style=\"text-align: right;\">\n",
       "      <th></th>\n",
       "      <th>tweet_date</th>\n",
       "      <th>account</th>\n",
       "      <th>ioc_type</th>\n",
       "      <th>ioc_value</th>\n",
       "      <th>type_of_attack</th>\n",
       "      <th>tweet_id</th>\n",
       "      <th>text</th>\n",
       "    </tr>\n",
       "  </thead>\n",
       "  <tbody>\n",
       "    <tr>\n",
       "      <th>0</th>\n",
       "      <td>2021-01-01 00:09:03+00:00</td>\n",
       "      <td>MalwarePatrol</td>\n",
       "      <td>url</td>\n",
       "      <td>http://dubioustimes.com/</td>\n",
       "      <td>['phishing']</td>\n",
       "      <td>1.344798e+18</td>\n",
       "      <td>Another active #Phishing targeting Google Driv...</td>\n",
       "    </tr>\n",
       "    <tr>\n",
       "      <th>1</th>\n",
       "      <td>2021-01-01 00:09:03+00:00</td>\n",
       "      <td>MalwarePatrol</td>\n",
       "      <td>url</td>\n",
       "      <td>https://t.co/m4mjDMt7az</td>\n",
       "      <td>['phishing']</td>\n",
       "      <td>1.344798e+18</td>\n",
       "      <td>Another active #Phishing targeting Google Driv...</td>\n",
       "    </tr>\n",
       "    <tr>\n",
       "      <th>2</th>\n",
       "      <td>2021-01-01 00:09:03+00:00</td>\n",
       "      <td>MalwarePatrol</td>\n",
       "      <td>domain</td>\n",
       "      <td>dubioustimes.com</td>\n",
       "      <td>['phishing']</td>\n",
       "      <td>1.344798e+18</td>\n",
       "      <td>Another active #Phishing targeting Google Driv...</td>\n",
       "    </tr>\n",
       "    <tr>\n",
       "      <th>3</th>\n",
       "      <td>2021-01-01 00:09:03+00:00</td>\n",
       "      <td>MalwarePatrol</td>\n",
       "      <td>domain</td>\n",
       "      <td>t.co</td>\n",
       "      <td>['phishing']</td>\n",
       "      <td>1.344798e+18</td>\n",
       "      <td>Another active #Phishing targeting Google Driv...</td>\n",
       "    </tr>\n",
       "    <tr>\n",
       "      <th>4</th>\n",
       "      <td>2021-01-01 00:26:26+00:00</td>\n",
       "      <td>PhishStats</td>\n",
       "      <td>url</td>\n",
       "      <td>http://departmen-advant-page.my.id/</td>\n",
       "      <td>['phishing']</td>\n",
       "      <td>1.344802e+18</td>\n",
       "      <td>new #phishing at hXXp://departmen-advant-page[...</td>\n",
       "    </tr>\n",
       "    <tr>\n",
       "      <th>...</th>\n",
       "      <td>...</td>\n",
       "      <td>...</td>\n",
       "      <td>...</td>\n",
       "      <td>...</td>\n",
       "      <td>...</td>\n",
       "      <td>...</td>\n",
       "      <td>...</td>\n",
       "    </tr>\n",
       "    <tr>\n",
       "      <th>195497</th>\n",
       "      <td>2021-07-31 21:01:16+00:00</td>\n",
       "      <td>ShoestringSoc</td>\n",
       "      <td>ip</td>\n",
       "      <td>197.156.73.150</td>\n",
       "      <td>['honeypot']</td>\n",
       "      <td>1.421577e+18</td>\n",
       "      <td>New attacker reported:\\n\\nIP:   197.156.73.150...</td>\n",
       "    </tr>\n",
       "    <tr>\n",
       "      <th>195498</th>\n",
       "      <td>2021-07-31 21:19:38+00:00</td>\n",
       "      <td>ecarlesi</td>\n",
       "      <td>url</td>\n",
       "      <td>http://xmyparcel21-redelivery.com/postoffice/fee/</td>\n",
       "      <td>['phishing']</td>\n",
       "      <td>1.421581e+18</td>\n",
       "      <td>Threat on hxxps://xmyparcel21-redelivery[.]com...</td>\n",
       "    </tr>\n",
       "    <tr>\n",
       "      <th>195500</th>\n",
       "      <td>2021-07-31 21:25:08+00:00</td>\n",
       "      <td>ecarlesi</td>\n",
       "      <td>url</td>\n",
       "      <td>http://igbusiness-form.com/283772919101/</td>\n",
       "      <td>['phishing']</td>\n",
       "      <td>1.421583e+18</td>\n",
       "      <td>Threat on hxxps://igbusiness-form[.]com/283772...</td>\n",
       "    </tr>\n",
       "    <tr>\n",
       "      <th>195506</th>\n",
       "      <td>2021-07-31 22:56:45+00:00</td>\n",
       "      <td>phishunt_io</td>\n",
       "      <td>ip</td>\n",
       "      <td>217.160.0.240</td>\n",
       "      <td>['phishing']</td>\n",
       "      <td>1.421606e+18</td>\n",
       "      <td>#NewPhishing | #phishing #scam\\n\\n🌐 /bankofame...</td>\n",
       "    </tr>\n",
       "    <tr>\n",
       "      <th>195507</th>\n",
       "      <td>2021-07-31 22:56:45+00:00</td>\n",
       "      <td>phishunt_io</td>\n",
       "      <td>domain</td>\n",
       "      <td>bankofamerica-miami.com</td>\n",
       "      <td>['phishing']</td>\n",
       "      <td>1.421606e+18</td>\n",
       "      <td>#NewPhishing | #phishing #scam\\n\\n🌐 /bankofame...</td>\n",
       "    </tr>\n",
       "  </tbody>\n",
       "</table>\n",
       "<p>93794 rows × 7 columns</p>\n",
       "</div>\n",
       "      <button class=\"colab-df-convert\" onclick=\"convertToInteractive('df-32bbfd1b-3310-4251-82d6-5d635b377f1f')\"\n",
       "              title=\"Convert this dataframe to an interactive table.\"\n",
       "              style=\"display:none;\">\n",
       "        \n",
       "  <svg xmlns=\"http://www.w3.org/2000/svg\" height=\"24px\"viewBox=\"0 0 24 24\"\n",
       "       width=\"24px\">\n",
       "    <path d=\"M0 0h24v24H0V0z\" fill=\"none\"/>\n",
       "    <path d=\"M18.56 5.44l.94 2.06.94-2.06 2.06-.94-2.06-.94-.94-2.06-.94 2.06-2.06.94zm-11 1L8.5 8.5l.94-2.06 2.06-.94-2.06-.94L8.5 2.5l-.94 2.06-2.06.94zm10 10l.94 2.06.94-2.06 2.06-.94-2.06-.94-.94-2.06-.94 2.06-2.06.94z\"/><path d=\"M17.41 7.96l-1.37-1.37c-.4-.4-.92-.59-1.43-.59-.52 0-1.04.2-1.43.59L10.3 9.45l-7.72 7.72c-.78.78-.78 2.05 0 2.83L4 21.41c.39.39.9.59 1.41.59.51 0 1.02-.2 1.41-.59l7.78-7.78 2.81-2.81c.8-.78.8-2.07 0-2.86zM5.41 20L4 18.59l7.72-7.72 1.47 1.35L5.41 20z\"/>\n",
       "  </svg>\n",
       "      </button>\n",
       "      \n",
       "  <style>\n",
       "    .colab-df-container {\n",
       "      display:flex;\n",
       "      flex-wrap:wrap;\n",
       "      gap: 12px;\n",
       "    }\n",
       "\n",
       "    .colab-df-convert {\n",
       "      background-color: #E8F0FE;\n",
       "      border: none;\n",
       "      border-radius: 50%;\n",
       "      cursor: pointer;\n",
       "      display: none;\n",
       "      fill: #1967D2;\n",
       "      height: 32px;\n",
       "      padding: 0 0 0 0;\n",
       "      width: 32px;\n",
       "    }\n",
       "\n",
       "    .colab-df-convert:hover {\n",
       "      background-color: #E2EBFA;\n",
       "      box-shadow: 0px 1px 2px rgba(60, 64, 67, 0.3), 0px 1px 3px 1px rgba(60, 64, 67, 0.15);\n",
       "      fill: #174EA6;\n",
       "    }\n",
       "\n",
       "    [theme=dark] .colab-df-convert {\n",
       "      background-color: #3B4455;\n",
       "      fill: #D2E3FC;\n",
       "    }\n",
       "\n",
       "    [theme=dark] .colab-df-convert:hover {\n",
       "      background-color: #434B5C;\n",
       "      box-shadow: 0px 1px 3px 1px rgba(0, 0, 0, 0.15);\n",
       "      filter: drop-shadow(0px 1px 2px rgba(0, 0, 0, 0.3));\n",
       "      fill: #FFFFFF;\n",
       "    }\n",
       "  </style>\n",
       "\n",
       "      <script>\n",
       "        const buttonEl =\n",
       "          document.querySelector('#df-32bbfd1b-3310-4251-82d6-5d635b377f1f button.colab-df-convert');\n",
       "        buttonEl.style.display =\n",
       "          google.colab.kernel.accessAllowed ? 'block' : 'none';\n",
       "\n",
       "        async function convertToInteractive(key) {\n",
       "          const element = document.querySelector('#df-32bbfd1b-3310-4251-82d6-5d635b377f1f');\n",
       "          const dataTable =\n",
       "            await google.colab.kernel.invokeFunction('convertToInteractive',\n",
       "                                                     [key], {});\n",
       "          if (!dataTable) return;\n",
       "\n",
       "          const docLinkHtml = 'Like what you see? Visit the ' +\n",
       "            '<a target=\"_blank\" href=https://colab.research.google.com/notebooks/data_table.ipynb>data table notebook</a>'\n",
       "            + ' to learn more about interactive tables.';\n",
       "          element.innerHTML = '';\n",
       "          dataTable['output_type'] = 'display_data';\n",
       "          await google.colab.output.renderOutput(dataTable, element);\n",
       "          const docLink = document.createElement('div');\n",
       "          docLink.innerHTML = docLinkHtml;\n",
       "          element.appendChild(docLink);\n",
       "        }\n",
       "      </script>\n",
       "    </div>\n",
       "  </div>\n",
       "  "
      ],
      "text/plain": [
       "                       tweet_date        account ioc_type  \\\n",
       "0       2021-01-01 00:09:03+00:00  MalwarePatrol      url   \n",
       "1       2021-01-01 00:09:03+00:00  MalwarePatrol      url   \n",
       "2       2021-01-01 00:09:03+00:00  MalwarePatrol   domain   \n",
       "3       2021-01-01 00:09:03+00:00  MalwarePatrol   domain   \n",
       "4       2021-01-01 00:26:26+00:00     PhishStats      url   \n",
       "...                           ...            ...      ...   \n",
       "195497  2021-07-31 21:01:16+00:00  ShoestringSoc       ip   \n",
       "195498  2021-07-31 21:19:38+00:00       ecarlesi      url   \n",
       "195500  2021-07-31 21:25:08+00:00       ecarlesi      url   \n",
       "195506  2021-07-31 22:56:45+00:00    phishunt_io       ip   \n",
       "195507  2021-07-31 22:56:45+00:00    phishunt_io   domain   \n",
       "\n",
       "                                                ioc_value type_of_attack  \\\n",
       "0                                http://dubioustimes.com/   ['phishing']   \n",
       "1                                 https://t.co/m4mjDMt7az   ['phishing']   \n",
       "2                                        dubioustimes.com   ['phishing']   \n",
       "3                                                    t.co   ['phishing']   \n",
       "4                     http://departmen-advant-page.my.id/   ['phishing']   \n",
       "...                                                   ...            ...   \n",
       "195497                                     197.156.73.150   ['honeypot']   \n",
       "195498  http://xmyparcel21-redelivery.com/postoffice/fee/   ['phishing']   \n",
       "195500           http://igbusiness-form.com/283772919101/   ['phishing']   \n",
       "195506                                      217.160.0.240   ['phishing']   \n",
       "195507                            bankofamerica-miami.com   ['phishing']   \n",
       "\n",
       "            tweet_id                                               text  \n",
       "0       1.344798e+18  Another active #Phishing targeting Google Driv...  \n",
       "1       1.344798e+18  Another active #Phishing targeting Google Driv...  \n",
       "2       1.344798e+18  Another active #Phishing targeting Google Driv...  \n",
       "3       1.344798e+18  Another active #Phishing targeting Google Driv...  \n",
       "4       1.344802e+18  new #phishing at hXXp://departmen-advant-page[...  \n",
       "...              ...                                                ...  \n",
       "195497  1.421577e+18  New attacker reported:\\n\\nIP:   197.156.73.150...  \n",
       "195498  1.421581e+18  Threat on hxxps://xmyparcel21-redelivery[.]com...  \n",
       "195500  1.421583e+18  Threat on hxxps://igbusiness-form[.]com/283772...  \n",
       "195506  1.421606e+18  #NewPhishing | #phishing #scam\\n\\n🌐 /bankofame...  \n",
       "195507  1.421606e+18  #NewPhishing | #phishing #scam\\n\\n🌐 /bankofame...  \n",
       "\n",
       "[93794 rows x 7 columns]"
      ]
     },
     "execution_count": 13,
     "metadata": {},
     "output_type": "execute_result"
    }
   ],
   "source": [
    "ioc_df.sort_values('tweet_date')"
   ]
  },
  {
   "cell_type": "code",
   "execution_count": null,
   "metadata": {
    "colab": {
     "base_uri": "https://localhost:8080/"
    },
    "executionInfo": {
     "elapsed": 1644,
     "status": "ok",
     "timestamp": 1668313309555,
     "user": {
      "displayName": "dincyr arikkat",
      "userId": "15274088586090887187"
     },
     "user_tz": -330
    },
    "id": "0l-1lTamv-mU",
    "outputId": "10f2d17b-396e-4857-efab-6296d3b92b03"
   },
   "outputs": [
    {
     "name": "stdout",
     "output_type": "stream",
     "text": [
      "Success\n"
     ]
    }
   ],
   "source": [
    "df1 = pd.DataFrame(ioc_df)\n",
    "df1.to_csv(\"/content/drive/MyDrive/output/Final_IOC_Sorted_Dataset_13_11_2022.csv\",index=False)\n",
    "print(\"Success\")"
   ]
  },
  {
   "cell_type": "code",
   "execution_count": null,
   "metadata": {
    "colab": {
     "base_uri": "https://localhost:8080/"
    },
    "executionInfo": {
     "elapsed": 9,
     "status": "ok",
     "timestamp": 1668313311274,
     "user": {
      "displayName": "dincyr arikkat",
      "userId": "15274088586090887187"
     },
     "user_tz": -330
    },
    "id": "HBL61d8ztUHt",
    "outputId": "21666988-9750-4ba1-9677-4cd4f7be2273"
   },
   "outputs": [
    {
     "data": {
      "text/plain": [
       "93794"
      ]
     },
     "execution_count": 15,
     "metadata": {},
     "output_type": "execute_result"
    }
   ],
   "source": [
    "len(df1)"
   ]
  },
  {
   "cell_type": "code",
   "execution_count": null,
   "metadata": {
    "executionInfo": {
     "elapsed": 3285,
     "status": "ok",
     "timestamp": 1668383742563,
     "user": {
      "displayName": "dincyr arikkat",
      "userId": "15274088586090887187"
     },
     "user_tz": -330
    },
    "id": "oir3nSInaqyz"
   },
   "outputs": [],
   "source": [
    "ioc_df=pd.read_csv(\"/content/drive/MyDrive/output/Final_IOC_Sorted_Dataset_13_11_2022.csv\",lineterminator='\\n')"
   ]
  },
  {
   "cell_type": "code",
   "execution_count": 5,
   "metadata": {
    "colab": {
     "base_uri": "https://localhost:8080/"
    },
    "executionInfo": {
     "elapsed": 800,
     "status": "ok",
     "timestamp": 1668383767384,
     "user": {
      "displayName": "dincyr arikkat",
      "userId": "15274088586090887187"
     },
     "user_tz": -330
    },
    "id": "udROwUsVa5Sy",
    "outputId": "4ab013d6-73f0-43a3-e0dc-4d12eb28355b"
   },
   "outputs": [
    {
     "data": {
      "text/plain": [
       "url       63469\n",
       "ip        13964\n",
       "domain     9115\n",
       "hash       5090\n",
       "CVE        1893\n",
       "email       263\n",
       "Name: ioc_type, dtype: int64"
      ]
     },
     "execution_count": 5,
     "metadata": {},
     "output_type": "execute_result"
    }
   ],
   "source": [
    "ioc_df['ioc_type'].value_counts()"
   ]
  }
 ],
 "metadata": {
  "colab": {
   "authorship_tag": "ABX9TyPrbegXBAjJPGPg1haOEvCx",
   "collapsed_sections": [],
   "provenance": []
  },
  "kernelspec": {
   "display_name": "Python 3",
   "name": "python3"
  },
  "language_info": {
   "name": "python"
  }
 },
 "nbformat": 4,
 "nbformat_minor": 0
}
